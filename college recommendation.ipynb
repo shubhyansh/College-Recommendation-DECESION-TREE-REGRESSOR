{
 "cells": [
  {
   "cell_type": "code",
   "execution_count": 1,
   "metadata": {},
   "outputs": [],
   "source": [
    "import numpy as np\n",
    "import pandas as pd\n",
    "import matplotlib.pyplot as plt\n",
    "%matplotlib inline\n",
    "pd.pandas.set_option('display.max_columns',None)"
   ]
  },
  {
   "cell_type": "code",
   "execution_count": 2,
   "metadata": {},
   "outputs": [],
   "source": [
    "df = pd.read_csv('clg_list.csv')"
   ]
  },
  {
   "cell_type": "code",
   "execution_count": 3,
   "metadata": {},
   "outputs": [
    {
     "data": {
      "text/plain": [
       "Index(['Sr.No', 'District', 'Taluka', 'College Name', 'University',\n",
       "       'College Type', 'Course Name', 'Course Type', 'Is Professional',\n",
       "       'Course (Aided / Unaided)', 'Course Duration (In months)',\n",
       "       'Course Category', 'Unnamed: 12', 'Unnamed: 13'],\n",
       "      dtype='object')"
      ]
     },
     "execution_count": 3,
     "metadata": {},
     "output_type": "execute_result"
    }
   ],
   "source": [
    "df.columns"
   ]
  },
  {
   "cell_type": "code",
   "execution_count": 4,
   "metadata": {},
   "outputs": [
    {
     "data": {
      "text/html": [
       "<div>\n",
       "<style scoped>\n",
       "    .dataframe tbody tr th:only-of-type {\n",
       "        vertical-align: middle;\n",
       "    }\n",
       "\n",
       "    .dataframe tbody tr th {\n",
       "        vertical-align: top;\n",
       "    }\n",
       "\n",
       "    .dataframe thead th {\n",
       "        text-align: right;\n",
       "    }\n",
       "</style>\n",
       "<table border=\"1\" class=\"dataframe\">\n",
       "  <thead>\n",
       "    <tr style=\"text-align: right;\">\n",
       "      <th></th>\n",
       "      <th>Sr.No</th>\n",
       "      <th>District</th>\n",
       "      <th>Taluka</th>\n",
       "      <th>College Name</th>\n",
       "      <th>University</th>\n",
       "      <th>College Type</th>\n",
       "      <th>Course Name</th>\n",
       "      <th>Course Type</th>\n",
       "      <th>Is Professional</th>\n",
       "      <th>Course (Aided / Unaided)</th>\n",
       "      <th>Course Duration (In months)</th>\n",
       "      <th>Course Category</th>\n",
       "      <th>Unnamed: 12</th>\n",
       "      <th>Unnamed: 13</th>\n",
       "    </tr>\n",
       "  </thead>\n",
       "  <tbody>\n",
       "    <tr>\n",
       "      <th>0</th>\n",
       "      <td>1</td>\n",
       "      <td>Amravati</td>\n",
       "      <td>Amravati</td>\n",
       "      <td>Government College of Engineering, Amravati</td>\n",
       "      <td>SANT GADGE BABA AMRAVATI UNIVERSITY</td>\n",
       "      <td>Government</td>\n",
       "      <td>Master of Engineering (M. E.) - Computer Scien...</td>\n",
       "      <td>Post Graduate Course</td>\n",
       "      <td>Professional Course</td>\n",
       "      <td>Aided</td>\n",
       "      <td>24</td>\n",
       "      <td>Engineering</td>\n",
       "      <td>NaN</td>\n",
       "      <td>NaN</td>\n",
       "    </tr>\n",
       "    <tr>\n",
       "      <th>1</th>\n",
       "      <td>2</td>\n",
       "      <td>Amravati</td>\n",
       "      <td>Amravati</td>\n",
       "      <td>Government College of Engineering, Amravati</td>\n",
       "      <td>SANT GADGE BABA AMRAVATI UNIVERSITY</td>\n",
       "      <td>Government</td>\n",
       "      <td>Master of Engineering (M. E.) - Electrical Pow...</td>\n",
       "      <td>Post Graduate Course</td>\n",
       "      <td>Professional Course</td>\n",
       "      <td>Aided</td>\n",
       "      <td>24</td>\n",
       "      <td>Engineering</td>\n",
       "      <td>NaN</td>\n",
       "      <td>NaN</td>\n",
       "    </tr>\n",
       "    <tr>\n",
       "      <th>2</th>\n",
       "      <td>3</td>\n",
       "      <td>Amravati</td>\n",
       "      <td>Amravati</td>\n",
       "      <td>Government College of Engineering, Amravati</td>\n",
       "      <td>SANT GADGE BABA AMRAVATI UNIVERSITY</td>\n",
       "      <td>Government</td>\n",
       "      <td>Master of Engineering (M. E.) - Thermal Power ...</td>\n",
       "      <td>Post Graduate Course</td>\n",
       "      <td>Professional Course</td>\n",
       "      <td>Aided</td>\n",
       "      <td>24</td>\n",
       "      <td>Engineering</td>\n",
       "      <td>NaN</td>\n",
       "      <td>NaN</td>\n",
       "    </tr>\n",
       "    <tr>\n",
       "      <th>3</th>\n",
       "      <td>4</td>\n",
       "      <td>Amravati</td>\n",
       "      <td>Amravati</td>\n",
       "      <td>Government College of Engineering, Amravati</td>\n",
       "      <td>SANT GADGE BABA AMRAVATI UNIVERSITY</td>\n",
       "      <td>Government</td>\n",
       "      <td>Bachelor of Engineering (B. E.) - Information ...</td>\n",
       "      <td>Under Graduate Course</td>\n",
       "      <td>Professional Course</td>\n",
       "      <td>Aided</td>\n",
       "      <td>48</td>\n",
       "      <td>Engineering</td>\n",
       "      <td>NaN</td>\n",
       "      <td>NaN</td>\n",
       "    </tr>\n",
       "    <tr>\n",
       "      <th>4</th>\n",
       "      <td>5</td>\n",
       "      <td>Amravati</td>\n",
       "      <td>Amravati</td>\n",
       "      <td>Government College of Engineering, Amravati</td>\n",
       "      <td>SANT GADGE BABA AMRAVATI UNIVERSITY</td>\n",
       "      <td>Government</td>\n",
       "      <td>Bachelor of Engineering (B. E.) - Electrical E...</td>\n",
       "      <td>Under Graduate Course</td>\n",
       "      <td>Professional Course</td>\n",
       "      <td>Aided</td>\n",
       "      <td>48</td>\n",
       "      <td>Engineering</td>\n",
       "      <td>NaN</td>\n",
       "      <td>NaN</td>\n",
       "    </tr>\n",
       "  </tbody>\n",
       "</table>\n",
       "</div>"
      ],
      "text/plain": [
       "   Sr.No  District    Taluka                                 College Name  \\\n",
       "0      1  Amravati  Amravati  Government College of Engineering, Amravati   \n",
       "1      2  Amravati  Amravati  Government College of Engineering, Amravati   \n",
       "2      3  Amravati  Amravati  Government College of Engineering, Amravati   \n",
       "3      4  Amravati  Amravati  Government College of Engineering, Amravati   \n",
       "4      5  Amravati  Amravati  Government College of Engineering, Amravati   \n",
       "\n",
       "                            University College Type  \\\n",
       "0  SANT GADGE BABA AMRAVATI UNIVERSITY   Government   \n",
       "1  SANT GADGE BABA AMRAVATI UNIVERSITY   Government   \n",
       "2  SANT GADGE BABA AMRAVATI UNIVERSITY   Government   \n",
       "3  SANT GADGE BABA AMRAVATI UNIVERSITY   Government   \n",
       "4  SANT GADGE BABA AMRAVATI UNIVERSITY   Government   \n",
       "\n",
       "                                         Course Name            Course Type  \\\n",
       "0  Master of Engineering (M. E.) - Computer Scien...   Post Graduate Course   \n",
       "1  Master of Engineering (M. E.) - Electrical Pow...   Post Graduate Course   \n",
       "2  Master of Engineering (M. E.) - Thermal Power ...   Post Graduate Course   \n",
       "3  Bachelor of Engineering (B. E.) - Information ...  Under Graduate Course   \n",
       "4  Bachelor of Engineering (B. E.) - Electrical E...  Under Graduate Course   \n",
       "\n",
       "       Is Professional Course (Aided / Unaided) Course Duration (In months)  \\\n",
       "0  Professional Course                    Aided                          24   \n",
       "1  Professional Course                    Aided                          24   \n",
       "2  Professional Course                    Aided                          24   \n",
       "3  Professional Course                    Aided                          48   \n",
       "4  Professional Course                    Aided                          48   \n",
       "\n",
       "  Course Category  Unnamed: 12 Unnamed: 13  \n",
       "0     Engineering          NaN         NaN  \n",
       "1     Engineering          NaN         NaN  \n",
       "2     Engineering          NaN         NaN  \n",
       "3     Engineering          NaN         NaN  \n",
       "4     Engineering          NaN         NaN  "
      ]
     },
     "execution_count": 4,
     "metadata": {},
     "output_type": "execute_result"
    }
   ],
   "source": [
    "df.head()"
   ]
  },
  {
   "cell_type": "code",
   "execution_count": 5,
   "metadata": {},
   "outputs": [
    {
     "data": {
      "text/plain": [
       "(60279, 14)"
      ]
     },
     "execution_count": 5,
     "metadata": {},
     "output_type": "execute_result"
    }
   ],
   "source": [
    "df.shape"
   ]
  },
  {
   "cell_type": "code",
   "execution_count": 6,
   "metadata": {
    "scrolled": true
   },
   "outputs": [
    {
     "data": {
      "text/plain": [
       "array(['SANT GADGE BABA AMRAVATI UNIVERSITY', 'DEEMED UNIVERSITY',\n",
       "       'MAHARASHTRA STATE BOARD OF TECHNICAL EDUCATION, MUMBAI',\n",
       "       'AUTONOMUS INSTITUTE OF GOVERNMENT OF MAHARASHTRA',\n",
       "       'AUTONOMOUS INSTITUTE', 'NORTH MAHARASHTRA UNIVERSITY',\n",
       "       'DR. B.A.T. UNIVERSITY', 'DR. B. A. MARATHWADA UNIVERSITY',\n",
       "       'S. R. T. MARATHWADA UNIVERSITY', 'S.R.T.M.U.NANDED',\n",
       "       'MUMBAI UNIVERSITY', \"SNDT Women's University\",\n",
       "       'SHIVAJI UNIVERSITY',\n",
       "       'RASHTRASANT TUKADOJI MAHARAJ NAGPUR UNIVERSITY',\n",
       "       'SAVITRIBAI PHULE PUNE UNIVERSITY', 'GONDWANA UNIVERSITY',\n",
       "       'SOLAPUR UNIVERSITY', 'NMU JALGAON',\n",
       "       'INDIRA KALA SANGEET VISHWAVIDYALAYA, KHAIRAGARH (C.G.)',\n",
       "       'KAVI KULGURU SANSKRIT VISHWAVIDYALAYA, RAMTEK',\n",
       "       'MAHARASHTRA STATE BOARD OF SECONDARY AND HIGHER SECONDARY EDUCATION',\n",
       "       ' Bhiwandi ', 'BHARATI VIDYAPEETH UNIVERSITY', 'CBSE',\n",
       "       'University Grants Commission', 'SCVT',\n",
       "       'RTM Nagpur University, Nagpur',\n",
       "       'Yashawantrao Chavan Maharashtra Open University, Nashik',\n",
       "       'CENTRAL GOVERNMENT',\n",
       "       'Maharashtra State council of Examination ,Pune',\n",
       "       'MAHARAHSTRA UNIVERSITY OF HEALTH SCIENCES NASHIK',\n",
       "       'MAHATMA GANDHI MISSION AURANGABAD',\n",
       "       'DATTA MEGHE INSTITUTE OF MEDICAL SCIENCE UNIVERSITY',\n",
       "       'MGM INSTITUTE OF HEALTH SCIENCE KAMOTHE',\n",
       "       'TILAK MAHARASHTRA VIDYAPEETH',\n",
       "       'INDIAN NURSING COUNCIL, NEW DELHI', 'MAHARASHTRA NURSING COUNCIL',\n",
       "       'MAHARASHTRA NATIONAL LAW UNIVERSITY MUMBAI',\n",
       "       'Maharashtra Animal & Fishery Sciences University, Nagpur',\n",
       "       'Vasantrao Naik Marathwada Krishi Vidyapeeth, Parbhani',\n",
       "       'Mahatma Phule Krishi Vidyapeeth, Rahuri Dist. Ahmednagar',\n",
       "       'Dr. Balasaheb Sawant Konkan Krishi Vidyapeeth, Dapoli Dist. Ratnagiri',\n",
       "       'Maharashtra National Law University, Nagpur',\n",
       "       'Dr. Panjabrao Deshmukh Krishi Vidyapeeth, Akola',\n",
       "       'Gokhale Institute of Politics & Economics', 'NCVT',\n",
       "       'Indira Gandhi National Open University (Regular Mode)',\n",
       "       'All India Institute of Local Self-Government',\n",
       "       'CIPET, Head Office, Chennai', 'Jawaharlal Nehru University',\n",
       "       'Others'], dtype=object)"
      ]
     },
     "execution_count": 6,
     "metadata": {},
     "output_type": "execute_result"
    }
   ],
   "source": [
    "df['University'].unique()"
   ]
  },
  {
   "cell_type": "code",
   "execution_count": 7,
   "metadata": {},
   "outputs": [
    {
     "data": {
      "text/plain": [
       "1"
      ]
     },
     "execution_count": 7,
     "metadata": {},
     "output_type": "execute_result"
    }
   ],
   "source": [
    "len(np.where(df['University'] == 'Others'))"
   ]
  },
  {
   "cell_type": "code",
   "execution_count": 8,
   "metadata": {},
   "outputs": [
    {
     "data": {
      "text/plain": [
       "15270"
      ]
     },
     "execution_count": 8,
     "metadata": {},
     "output_type": "execute_result"
    }
   ],
   "source": [
    "len(df['College Name'].unique())"
   ]
  },
  {
   "cell_type": "code",
   "execution_count": 9,
   "metadata": {},
   "outputs": [],
   "source": [
    "df = df.drop(df[df['University'] == 'Others'].index)"
   ]
  },
  {
   "cell_type": "code",
   "execution_count": 10,
   "metadata": {},
   "outputs": [
    {
     "name": "stdout",
     "output_type": "stream",
     "text": [
      "<class 'pandas.core.frame.DataFrame'>\n",
      "Int64Index: 60278 entries, 0 to 60278\n",
      "Data columns (total 14 columns):\n",
      " #   Column                       Non-Null Count  Dtype  \n",
      "---  ------                       --------------  -----  \n",
      " 0   Sr.No                        60278 non-null  int64  \n",
      " 1   District                     60278 non-null  object \n",
      " 2   Taluka                       60278 non-null  object \n",
      " 3   College Name                 60278 non-null  object \n",
      " 4   University                   60278 non-null  object \n",
      " 5   College Type                 59786 non-null  object \n",
      " 6   Course Name                  60278 non-null  object \n",
      " 7   Course Type                  60278 non-null  object \n",
      " 8   Is Professional              60278 non-null  object \n",
      " 9   Course (Aided / Unaided)     60278 non-null  object \n",
      " 10  Course Duration (In months)  60278 non-null  object \n",
      " 11  Course Category              60278 non-null  object \n",
      " 12  Unnamed: 12                  1 non-null      float64\n",
      " 13  Unnamed: 13                  1 non-null      object \n",
      "dtypes: float64(1), int64(1), object(12)\n",
      "memory usage: 6.9+ MB\n"
     ]
    }
   ],
   "source": [
    "df.info()"
   ]
  },
  {
   "cell_type": "code",
   "execution_count": 11,
   "metadata": {},
   "outputs": [],
   "source": [
    "df.drop(columns='Unnamed: 13',inplace=True)"
   ]
  },
  {
   "cell_type": "code",
   "execution_count": 12,
   "metadata": {},
   "outputs": [],
   "source": [
    "df.drop(columns='Unnamed: 12',inplace=True)"
   ]
  },
  {
   "cell_type": "code",
   "execution_count": 13,
   "metadata": {},
   "outputs": [],
   "source": [
    "df.drop(columns='Sr.No',inplace=True)"
   ]
  },
  {
   "cell_type": "code",
   "execution_count": 14,
   "metadata": {},
   "outputs": [],
   "source": [
    "df.drop(columns = 'College Name',inplace=True)"
   ]
  },
  {
   "cell_type": "code",
   "execution_count": 15,
   "metadata": {},
   "outputs": [],
   "source": [
    "df.drop(columns = 'Taluka',inplace=True)"
   ]
  },
  {
   "cell_type": "code",
   "execution_count": 16,
   "metadata": {},
   "outputs": [
    {
     "data": {
      "text/plain": [
       "(60278, 9)"
      ]
     },
     "execution_count": 16,
     "metadata": {},
     "output_type": "execute_result"
    }
   ],
   "source": [
    "df.shape"
   ]
  },
  {
   "cell_type": "code",
   "execution_count": 17,
   "metadata": {},
   "outputs": [],
   "source": [
    "num_rows = 60278\n",
    "\n",
    "# Create a dataframe with one column of random numbers from 1.00 to 4.00\n",
    "df1 = pd.DataFrame(np.random.uniform(low=1.00, high=4.00, size=num_rows).round(2), columns=['Avg_fees(lacs)'])\n",
    "df = pd.concat([df1, df], axis=1)\n"
   ]
  },
  {
   "cell_type": "code",
   "execution_count": 18,
   "metadata": {},
   "outputs": [
    {
     "data": {
      "text/html": [
       "<div>\n",
       "<style scoped>\n",
       "    .dataframe tbody tr th:only-of-type {\n",
       "        vertical-align: middle;\n",
       "    }\n",
       "\n",
       "    .dataframe tbody tr th {\n",
       "        vertical-align: top;\n",
       "    }\n",
       "\n",
       "    .dataframe thead th {\n",
       "        text-align: right;\n",
       "    }\n",
       "</style>\n",
       "<table border=\"1\" class=\"dataframe\">\n",
       "  <thead>\n",
       "    <tr style=\"text-align: right;\">\n",
       "      <th></th>\n",
       "      <th>Avg_fees(lacs)</th>\n",
       "      <th>District</th>\n",
       "      <th>University</th>\n",
       "      <th>College Type</th>\n",
       "      <th>Course Name</th>\n",
       "      <th>Course Type</th>\n",
       "      <th>Is Professional</th>\n",
       "      <th>Course (Aided / Unaided)</th>\n",
       "      <th>Course Duration (In months)</th>\n",
       "      <th>Course Category</th>\n",
       "    </tr>\n",
       "  </thead>\n",
       "  <tbody>\n",
       "    <tr>\n",
       "      <th>0</th>\n",
       "      <td>3.76</td>\n",
       "      <td>Amravati</td>\n",
       "      <td>SANT GADGE BABA AMRAVATI UNIVERSITY</td>\n",
       "      <td>Government</td>\n",
       "      <td>Master of Engineering (M. E.) - Computer Scien...</td>\n",
       "      <td>Post Graduate Course</td>\n",
       "      <td>Professional Course</td>\n",
       "      <td>Aided</td>\n",
       "      <td>24</td>\n",
       "      <td>Engineering</td>\n",
       "    </tr>\n",
       "    <tr>\n",
       "      <th>1</th>\n",
       "      <td>3.24</td>\n",
       "      <td>Amravati</td>\n",
       "      <td>SANT GADGE BABA AMRAVATI UNIVERSITY</td>\n",
       "      <td>Government</td>\n",
       "      <td>Master of Engineering (M. E.) - Electrical Pow...</td>\n",
       "      <td>Post Graduate Course</td>\n",
       "      <td>Professional Course</td>\n",
       "      <td>Aided</td>\n",
       "      <td>24</td>\n",
       "      <td>Engineering</td>\n",
       "    </tr>\n",
       "  </tbody>\n",
       "</table>\n",
       "</div>"
      ],
      "text/plain": [
       "   Avg_fees(lacs)  District                           University College Type  \\\n",
       "0            3.76  Amravati  SANT GADGE BABA AMRAVATI UNIVERSITY   Government   \n",
       "1            3.24  Amravati  SANT GADGE BABA AMRAVATI UNIVERSITY   Government   \n",
       "\n",
       "                                         Course Name           Course Type  \\\n",
       "0  Master of Engineering (M. E.) - Computer Scien...  Post Graduate Course   \n",
       "1  Master of Engineering (M. E.) - Electrical Pow...  Post Graduate Course   \n",
       "\n",
       "       Is Professional Course (Aided / Unaided) Course Duration (In months)  \\\n",
       "0  Professional Course                    Aided                          24   \n",
       "1  Professional Course                    Aided                          24   \n",
       "\n",
       "  Course Category  \n",
       "0     Engineering  \n",
       "1     Engineering  "
      ]
     },
     "execution_count": 18,
     "metadata": {},
     "output_type": "execute_result"
    }
   ],
   "source": [
    "df.head(2)"
   ]
  },
  {
   "cell_type": "code",
   "execution_count": 19,
   "metadata": {},
   "outputs": [],
   "source": [
    "num_rows = 60278\n",
    "\n",
    "# Create a dataframe with one column of random numbers from 1.00 to 4.00\n",
    "df2 = pd.DataFrame(np.random.uniform(low=8.00, high=9.2, size=num_rows).round(2), columns=['CGPA'])\n",
    "df = pd.concat([df2, df], axis=1)"
   ]
  },
  {
   "cell_type": "code",
   "execution_count": 20,
   "metadata": {
    "scrolled": true
   },
   "outputs": [
    {
     "data": {
      "text/html": [
       "<div>\n",
       "<style scoped>\n",
       "    .dataframe tbody tr th:only-of-type {\n",
       "        vertical-align: middle;\n",
       "    }\n",
       "\n",
       "    .dataframe tbody tr th {\n",
       "        vertical-align: top;\n",
       "    }\n",
       "\n",
       "    .dataframe thead th {\n",
       "        text-align: right;\n",
       "    }\n",
       "</style>\n",
       "<table border=\"1\" class=\"dataframe\">\n",
       "  <thead>\n",
       "    <tr style=\"text-align: right;\">\n",
       "      <th></th>\n",
       "      <th>CGPA</th>\n",
       "      <th>Avg_fees(lacs)</th>\n",
       "      <th>District</th>\n",
       "      <th>University</th>\n",
       "      <th>College Type</th>\n",
       "      <th>Course Name</th>\n",
       "      <th>Course Type</th>\n",
       "      <th>Is Professional</th>\n",
       "      <th>Course (Aided / Unaided)</th>\n",
       "      <th>Course Duration (In months)</th>\n",
       "      <th>Course Category</th>\n",
       "    </tr>\n",
       "  </thead>\n",
       "  <tbody>\n",
       "    <tr>\n",
       "      <th>0</th>\n",
       "      <td>8.13</td>\n",
       "      <td>3.76</td>\n",
       "      <td>Amravati</td>\n",
       "      <td>SANT GADGE BABA AMRAVATI UNIVERSITY</td>\n",
       "      <td>Government</td>\n",
       "      <td>Master of Engineering (M. E.) - Computer Scien...</td>\n",
       "      <td>Post Graduate Course</td>\n",
       "      <td>Professional Course</td>\n",
       "      <td>Aided</td>\n",
       "      <td>24</td>\n",
       "      <td>Engineering</td>\n",
       "    </tr>\n",
       "    <tr>\n",
       "      <th>1</th>\n",
       "      <td>8.05</td>\n",
       "      <td>3.24</td>\n",
       "      <td>Amravati</td>\n",
       "      <td>SANT GADGE BABA AMRAVATI UNIVERSITY</td>\n",
       "      <td>Government</td>\n",
       "      <td>Master of Engineering (M. E.) - Electrical Pow...</td>\n",
       "      <td>Post Graduate Course</td>\n",
       "      <td>Professional Course</td>\n",
       "      <td>Aided</td>\n",
       "      <td>24</td>\n",
       "      <td>Engineering</td>\n",
       "    </tr>\n",
       "  </tbody>\n",
       "</table>\n",
       "</div>"
      ],
      "text/plain": [
       "   CGPA  Avg_fees(lacs)  District                           University  \\\n",
       "0  8.13            3.76  Amravati  SANT GADGE BABA AMRAVATI UNIVERSITY   \n",
       "1  8.05            3.24  Amravati  SANT GADGE BABA AMRAVATI UNIVERSITY   \n",
       "\n",
       "  College Type                                        Course Name  \\\n",
       "0   Government  Master of Engineering (M. E.) - Computer Scien...   \n",
       "1   Government  Master of Engineering (M. E.) - Electrical Pow...   \n",
       "\n",
       "            Course Type      Is Professional Course (Aided / Unaided)  \\\n",
       "0  Post Graduate Course  Professional Course                    Aided   \n",
       "1  Post Graduate Course  Professional Course                    Aided   \n",
       "\n",
       "  Course Duration (In months) Course Category  \n",
       "0                          24     Engineering  \n",
       "1                          24     Engineering  "
      ]
     },
     "execution_count": 20,
     "metadata": {},
     "output_type": "execute_result"
    }
   ],
   "source": [
    "df.head(2)"
   ]
  },
  {
   "cell_type": "code",
   "execution_count": 21,
   "metadata": {},
   "outputs": [
    {
     "data": {
      "text/plain": [
       "(60279, 11)"
      ]
     },
     "execution_count": 21,
     "metadata": {},
     "output_type": "execute_result"
    }
   ],
   "source": [
    "df.shape"
   ]
  },
  {
   "cell_type": "code",
   "execution_count": 22,
   "metadata": {
    "scrolled": true
   },
   "outputs": [
    {
     "data": {
      "text/plain": [
       "CGPA                             1\n",
       "Avg_fees(lacs)                   1\n",
       "District                         1\n",
       "University                       1\n",
       "College Type                   493\n",
       "Course Name                      1\n",
       "Course Type                      1\n",
       "Is Professional                  1\n",
       "Course (Aided / Unaided)         1\n",
       "Course Duration (In months)      1\n",
       "Course Category                  1\n",
       "dtype: int64"
      ]
     },
     "execution_count": 22,
     "metadata": {},
     "output_type": "execute_result"
    }
   ],
   "source": [
    "df.isna().sum()"
   ]
  },
  {
   "cell_type": "code",
   "execution_count": 23,
   "metadata": {},
   "outputs": [],
   "source": [
    "df = df.dropna()"
   ]
  },
  {
   "cell_type": "code",
   "execution_count": 24,
   "metadata": {},
   "outputs": [
    {
     "data": {
      "text/plain": [
       "CGPA                           0\n",
       "Avg_fees(lacs)                 0\n",
       "District                       0\n",
       "University                     0\n",
       "College Type                   0\n",
       "Course Name                    0\n",
       "Course Type                    0\n",
       "Is Professional                0\n",
       "Course (Aided / Unaided)       0\n",
       "Course Duration (In months)    0\n",
       "Course Category                0\n",
       "dtype: int64"
      ]
     },
     "execution_count": 24,
     "metadata": {},
     "output_type": "execute_result"
    }
   ],
   "source": [
    "df.isna().sum()"
   ]
  },
  {
   "cell_type": "code",
   "execution_count": 25,
   "metadata": {},
   "outputs": [],
   "source": [
    "df.to_csv('my_data.csv', index=False)"
   ]
  },
  {
   "cell_type": "markdown",
   "metadata": {},
   "source": [
    "# CODE"
   ]
  },
  {
   "cell_type": "code",
   "execution_count": 26,
   "metadata": {},
   "outputs": [],
   "source": [
    "df = pd.read_csv('my_data.csv')"
   ]
  },
  {
   "cell_type": "code",
   "execution_count": 27,
   "metadata": {},
   "outputs": [
    {
     "data": {
      "text/html": [
       "<div>\n",
       "<style scoped>\n",
       "    .dataframe tbody tr th:only-of-type {\n",
       "        vertical-align: middle;\n",
       "    }\n",
       "\n",
       "    .dataframe tbody tr th {\n",
       "        vertical-align: top;\n",
       "    }\n",
       "\n",
       "    .dataframe thead th {\n",
       "        text-align: right;\n",
       "    }\n",
       "</style>\n",
       "<table border=\"1\" class=\"dataframe\">\n",
       "  <thead>\n",
       "    <tr style=\"text-align: right;\">\n",
       "      <th></th>\n",
       "      <th>CGPA</th>\n",
       "      <th>Avg_fees(lacs)</th>\n",
       "      <th>District</th>\n",
       "      <th>University</th>\n",
       "      <th>College Type</th>\n",
       "      <th>Course Name</th>\n",
       "      <th>Course Type</th>\n",
       "      <th>Is Professional</th>\n",
       "      <th>Course (Aided / Unaided)</th>\n",
       "      <th>Course Duration (In months)</th>\n",
       "      <th>Course Category</th>\n",
       "    </tr>\n",
       "  </thead>\n",
       "  <tbody>\n",
       "    <tr>\n",
       "      <th>0</th>\n",
       "      <td>8.13</td>\n",
       "      <td>3.76</td>\n",
       "      <td>Amravati</td>\n",
       "      <td>SANT GADGE BABA AMRAVATI UNIVERSITY</td>\n",
       "      <td>Government</td>\n",
       "      <td>Master of Engineering (M. E.) - Computer Scien...</td>\n",
       "      <td>Post Graduate Course</td>\n",
       "      <td>Professional Course</td>\n",
       "      <td>Aided</td>\n",
       "      <td>24</td>\n",
       "      <td>Engineering</td>\n",
       "    </tr>\n",
       "    <tr>\n",
       "      <th>1</th>\n",
       "      <td>8.05</td>\n",
       "      <td>3.24</td>\n",
       "      <td>Amravati</td>\n",
       "      <td>SANT GADGE BABA AMRAVATI UNIVERSITY</td>\n",
       "      <td>Government</td>\n",
       "      <td>Master of Engineering (M. E.) - Electrical Pow...</td>\n",
       "      <td>Post Graduate Course</td>\n",
       "      <td>Professional Course</td>\n",
       "      <td>Aided</td>\n",
       "      <td>24</td>\n",
       "      <td>Engineering</td>\n",
       "    </tr>\n",
       "    <tr>\n",
       "      <th>2</th>\n",
       "      <td>9.09</td>\n",
       "      <td>3.11</td>\n",
       "      <td>Amravati</td>\n",
       "      <td>SANT GADGE BABA AMRAVATI UNIVERSITY</td>\n",
       "      <td>Government</td>\n",
       "      <td>Master of Engineering (M. E.) - Thermal Power ...</td>\n",
       "      <td>Post Graduate Course</td>\n",
       "      <td>Professional Course</td>\n",
       "      <td>Aided</td>\n",
       "      <td>24</td>\n",
       "      <td>Engineering</td>\n",
       "    </tr>\n",
       "    <tr>\n",
       "      <th>3</th>\n",
       "      <td>8.82</td>\n",
       "      <td>2.49</td>\n",
       "      <td>Amravati</td>\n",
       "      <td>SANT GADGE BABA AMRAVATI UNIVERSITY</td>\n",
       "      <td>Government</td>\n",
       "      <td>Bachelor of Engineering (B. E.) - Information ...</td>\n",
       "      <td>Under Graduate Course</td>\n",
       "      <td>Professional Course</td>\n",
       "      <td>Aided</td>\n",
       "      <td>48</td>\n",
       "      <td>Engineering</td>\n",
       "    </tr>\n",
       "    <tr>\n",
       "      <th>4</th>\n",
       "      <td>8.39</td>\n",
       "      <td>1.85</td>\n",
       "      <td>Amravati</td>\n",
       "      <td>SANT GADGE BABA AMRAVATI UNIVERSITY</td>\n",
       "      <td>Government</td>\n",
       "      <td>Bachelor of Engineering (B. E.) - Electrical E...</td>\n",
       "      <td>Under Graduate Course</td>\n",
       "      <td>Professional Course</td>\n",
       "      <td>Aided</td>\n",
       "      <td>48</td>\n",
       "      <td>Engineering</td>\n",
       "    </tr>\n",
       "    <tr>\n",
       "      <th>...</th>\n",
       "      <td>...</td>\n",
       "      <td>...</td>\n",
       "      <td>...</td>\n",
       "      <td>...</td>\n",
       "      <td>...</td>\n",
       "      <td>...</td>\n",
       "      <td>...</td>\n",
       "      <td>...</td>\n",
       "      <td>...</td>\n",
       "      <td>...</td>\n",
       "      <td>...</td>\n",
       "    </tr>\n",
       "    <tr>\n",
       "      <th>59781</th>\n",
       "      <td>8.63</td>\n",
       "      <td>3.57</td>\n",
       "      <td>Nandurbar</td>\n",
       "      <td>NMU JALGAON</td>\n",
       "      <td>Aided</td>\n",
       "      <td>M.Sc. (Computer Science)</td>\n",
       "      <td>Post Graduate Course</td>\n",
       "      <td>Non-Professional Course</td>\n",
       "      <td>UnAided</td>\n",
       "      <td>24</td>\n",
       "      <td>Science</td>\n",
       "    </tr>\n",
       "    <tr>\n",
       "      <th>59782</th>\n",
       "      <td>8.23</td>\n",
       "      <td>3.46</td>\n",
       "      <td>Nandurbar</td>\n",
       "      <td>NMU JALGAON</td>\n",
       "      <td>Aided</td>\n",
       "      <td>M.Sc. (Chemistry)</td>\n",
       "      <td>Post Graduate Course</td>\n",
       "      <td>Non-Professional Course</td>\n",
       "      <td>UnAided</td>\n",
       "      <td>24</td>\n",
       "      <td>Science</td>\n",
       "    </tr>\n",
       "    <tr>\n",
       "      <th>59783</th>\n",
       "      <td>9.03</td>\n",
       "      <td>1.87</td>\n",
       "      <td>Nandurbar</td>\n",
       "      <td>NMU JALGAON</td>\n",
       "      <td>Aided</td>\n",
       "      <td>B.Sc.</td>\n",
       "      <td>Under Graduate Course</td>\n",
       "      <td>Non-Professional Course</td>\n",
       "      <td>Aided</td>\n",
       "      <td>36</td>\n",
       "      <td>Science</td>\n",
       "    </tr>\n",
       "    <tr>\n",
       "      <th>59784</th>\n",
       "      <td>8.43</td>\n",
       "      <td>3.90</td>\n",
       "      <td>Nandurbar</td>\n",
       "      <td>NMU JALGAON</td>\n",
       "      <td>Aided</td>\n",
       "      <td>M.Sc. (Zoology)</td>\n",
       "      <td>Post Graduate Course</td>\n",
       "      <td>Non-Professional Course</td>\n",
       "      <td>UnAided</td>\n",
       "      <td>24</td>\n",
       "      <td>Science</td>\n",
       "    </tr>\n",
       "    <tr>\n",
       "      <th>59785</th>\n",
       "      <td>8.32</td>\n",
       "      <td>3.86</td>\n",
       "      <td>Nandurbar</td>\n",
       "      <td>NMU JALGAON</td>\n",
       "      <td>Aided</td>\n",
       "      <td>M.A. (Psychology)</td>\n",
       "      <td>Post Graduate Course</td>\n",
       "      <td>Non-Professional Course</td>\n",
       "      <td>UnAided</td>\n",
       "      <td>24</td>\n",
       "      <td>Arts</td>\n",
       "    </tr>\n",
       "  </tbody>\n",
       "</table>\n",
       "<p>59786 rows × 11 columns</p>\n",
       "</div>"
      ],
      "text/plain": [
       "       CGPA  Avg_fees(lacs)   District                           University  \\\n",
       "0      8.13            3.76   Amravati  SANT GADGE BABA AMRAVATI UNIVERSITY   \n",
       "1      8.05            3.24   Amravati  SANT GADGE BABA AMRAVATI UNIVERSITY   \n",
       "2      9.09            3.11   Amravati  SANT GADGE BABA AMRAVATI UNIVERSITY   \n",
       "3      8.82            2.49   Amravati  SANT GADGE BABA AMRAVATI UNIVERSITY   \n",
       "4      8.39            1.85   Amravati  SANT GADGE BABA AMRAVATI UNIVERSITY   \n",
       "...     ...             ...        ...                                  ...   \n",
       "59781  8.63            3.57  Nandurbar                          NMU JALGAON   \n",
       "59782  8.23            3.46  Nandurbar                          NMU JALGAON   \n",
       "59783  9.03            1.87  Nandurbar                          NMU JALGAON   \n",
       "59784  8.43            3.90  Nandurbar                          NMU JALGAON   \n",
       "59785  8.32            3.86  Nandurbar                          NMU JALGAON   \n",
       "\n",
       "      College Type                                        Course Name  \\\n",
       "0       Government  Master of Engineering (M. E.) - Computer Scien...   \n",
       "1       Government  Master of Engineering (M. E.) - Electrical Pow...   \n",
       "2       Government  Master of Engineering (M. E.) - Thermal Power ...   \n",
       "3       Government  Bachelor of Engineering (B. E.) - Information ...   \n",
       "4       Government  Bachelor of Engineering (B. E.) - Electrical E...   \n",
       "...            ...                                                ...   \n",
       "59781        Aided                           M.Sc. (Computer Science)   \n",
       "59782        Aided                                  M.Sc. (Chemistry)   \n",
       "59783        Aided                                              B.Sc.   \n",
       "59784        Aided                                    M.Sc. (Zoology)   \n",
       "59785        Aided                                  M.A. (Psychology)   \n",
       "\n",
       "                 Course Type          Is Professional  \\\n",
       "0       Post Graduate Course      Professional Course   \n",
       "1       Post Graduate Course      Professional Course   \n",
       "2       Post Graduate Course      Professional Course   \n",
       "3      Under Graduate Course      Professional Course   \n",
       "4      Under Graduate Course      Professional Course   \n",
       "...                      ...                      ...   \n",
       "59781   Post Graduate Course  Non-Professional Course   \n",
       "59782   Post Graduate Course  Non-Professional Course   \n",
       "59783  Under Graduate Course  Non-Professional Course   \n",
       "59784   Post Graduate Course  Non-Professional Course   \n",
       "59785   Post Graduate Course  Non-Professional Course   \n",
       "\n",
       "      Course (Aided / Unaided) Course Duration (In months) Course Category  \n",
       "0                        Aided                          24     Engineering  \n",
       "1                        Aided                          24     Engineering  \n",
       "2                        Aided                          24     Engineering  \n",
       "3                        Aided                          48     Engineering  \n",
       "4                        Aided                          48     Engineering  \n",
       "...                        ...                         ...             ...  \n",
       "59781                  UnAided                          24         Science  \n",
       "59782                  UnAided                          24         Science  \n",
       "59783                    Aided                          36         Science  \n",
       "59784                  UnAided                          24         Science  \n",
       "59785                  UnAided                          24            Arts  \n",
       "\n",
       "[59786 rows x 11 columns]"
      ]
     },
     "execution_count": 27,
     "metadata": {},
     "output_type": "execute_result"
    }
   ],
   "source": [
    "df"
   ]
  },
  {
   "cell_type": "code",
   "execution_count": 28,
   "metadata": {},
   "outputs": [
    {
     "name": "stdout",
     "output_type": "stream",
     "text": [
      "CGPA : 121\n",
      "Avg_fees(lacs) : 301\n",
      "District : 36\n",
      "University : 47\n",
      "College Type : 12\n",
      "Course Name : 1209\n",
      "Course Type : 11\n",
      "Is Professional : 3\n",
      "Course (Aided / Unaided) : 3\n",
      "Course Duration (In months) : 9\n",
      "Course Category : 19\n"
     ]
    }
   ],
   "source": [
    "for col in df.columns:\n",
    "    print(col, \":\", len(df[col].unique()))"
   ]
  },
  {
   "cell_type": "code",
   "execution_count": 29,
   "metadata": {
    "scrolled": true
   },
   "outputs": [
    {
     "data": {
      "text/plain": [
       "CGPA                           0\n",
       "Avg_fees(lacs)                 0\n",
       "District                       0\n",
       "University                     0\n",
       "College Type                   0\n",
       "Course Name                    0\n",
       "Course Type                    0\n",
       "Is Professional                0\n",
       "Course (Aided / Unaided)       0\n",
       "Course Duration (In months)    0\n",
       "Course Category                0\n",
       "dtype: int64"
      ]
     },
     "execution_count": 29,
     "metadata": {},
     "output_type": "execute_result"
    }
   ],
   "source": [
    "df.isna().sum()"
   ]
  },
  {
   "cell_type": "code",
   "execution_count": 30,
   "metadata": {},
   "outputs": [
    {
     "data": {
      "text/plain": [
       "<AxesSubplot:xlabel='University'>"
      ]
     },
     "execution_count": 30,
     "metadata": {},
     "output_type": "execute_result"
    },
    {
     "data": {
      "image/png": "[encoded data removed]",
      "text/plain": [
       "<Figure size 576x576 with 1 Axes>"
      ]
     },
     "metadata": {
      "needs_background": "light"
     },
     "output_type": "display_data"
    }
   ],
   "source": [
    "import seaborn as sns\n",
    "# Number of entries in each class\n",
    "entries = df['University'].value_counts()\n",
    "fig_dims = (8, 8)\n",
    "fig, ax = plt.subplots(figsize=fig_dims)\n",
    "sns.barplot(x=entries,y=entries.index, ax=ax)"
   ]
  },
  {
   "cell_type": "code",
   "execution_count": 31,
   "metadata": {
    "scrolled": true
   },
   "outputs": [
    {
     "name": "stdout",
     "output_type": "stream",
     "text": [
      "Number of numerical variables:  2\n"
     ]
    },
    {
     "data": {
      "text/html": [
       "<div>\n",
       "<style scoped>\n",
       "    .dataframe tbody tr th:only-of-type {\n",
       "        vertical-align: middle;\n",
       "    }\n",
       "\n",
       "    .dataframe tbody tr th {\n",
       "        vertical-align: top;\n",
       "    }\n",
       "\n",
       "    .dataframe thead th {\n",
       "        text-align: right;\n",
       "    }\n",
       "</style>\n",
       "<table border=\"1\" class=\"dataframe\">\n",
       "  <thead>\n",
       "    <tr style=\"text-align: right;\">\n",
       "      <th></th>\n",
       "      <th>CGPA</th>\n",
       "      <th>Avg_fees(lacs)</th>\n",
       "    </tr>\n",
       "  </thead>\n",
       "  <tbody>\n",
       "    <tr>\n",
       "      <th>0</th>\n",
       "      <td>8.13</td>\n",
       "      <td>3.76</td>\n",
       "    </tr>\n",
       "    <tr>\n",
       "      <th>1</th>\n",
       "      <td>8.05</td>\n",
       "      <td>3.24</td>\n",
       "    </tr>\n",
       "    <tr>\n",
       "      <th>2</th>\n",
       "      <td>9.09</td>\n",
       "      <td>3.11</td>\n",
       "    </tr>\n",
       "    <tr>\n",
       "      <th>3</th>\n",
       "      <td>8.82</td>\n",
       "      <td>2.49</td>\n",
       "    </tr>\n",
       "    <tr>\n",
       "      <th>4</th>\n",
       "      <td>8.39</td>\n",
       "      <td>1.85</td>\n",
       "    </tr>\n",
       "    <tr>\n",
       "      <th>...</th>\n",
       "      <td>...</td>\n",
       "      <td>...</td>\n",
       "    </tr>\n",
       "    <tr>\n",
       "      <th>59781</th>\n",
       "      <td>8.63</td>\n",
       "      <td>3.57</td>\n",
       "    </tr>\n",
       "    <tr>\n",
       "      <th>59782</th>\n",
       "      <td>8.23</td>\n",
       "      <td>3.46</td>\n",
       "    </tr>\n",
       "    <tr>\n",
       "      <th>59783</th>\n",
       "      <td>9.03</td>\n",
       "      <td>1.87</td>\n",
       "    </tr>\n",
       "    <tr>\n",
       "      <th>59784</th>\n",
       "      <td>8.43</td>\n",
       "      <td>3.90</td>\n",
       "    </tr>\n",
       "    <tr>\n",
       "      <th>59785</th>\n",
       "      <td>8.32</td>\n",
       "      <td>3.86</td>\n",
       "    </tr>\n",
       "  </tbody>\n",
       "</table>\n",
       "<p>59786 rows × 2 columns</p>\n",
       "</div>"
      ],
      "text/plain": [
       "       CGPA  Avg_fees(lacs)\n",
       "0      8.13            3.76\n",
       "1      8.05            3.24\n",
       "2      9.09            3.11\n",
       "3      8.82            2.49\n",
       "4      8.39            1.85\n",
       "...     ...             ...\n",
       "59781  8.63            3.57\n",
       "59782  8.23            3.46\n",
       "59783  9.03            1.87\n",
       "59784  8.43            3.90\n",
       "59785  8.32            3.86\n",
       "\n",
       "[59786 rows x 2 columns]"
      ]
     },
     "execution_count": 31,
     "metadata": {},
     "output_type": "execute_result"
    }
   ],
   "source": [
    "numerical_features = [feature for feature in df.columns if df[feature].dtypes != 'O']\n",
    "print('Number of numerical variables: ', len(numerical_features))\n",
    "# visualise the numerical variables\n",
    "df[numerical_features]"
   ]
  },
  {
   "cell_type": "code",
   "execution_count": 32,
   "metadata": {},
   "outputs": [
    {
     "name": "stdout",
     "output_type": "stream",
     "text": [
      "<class 'pandas.core.frame.DataFrame'>\n",
      "RangeIndex: 59786 entries, 0 to 59785\n",
      "Data columns (total 11 columns):\n",
      " #   Column                       Non-Null Count  Dtype  \n",
      "---  ------                       --------------  -----  \n",
      " 0   CGPA                         59786 non-null  float64\n",
      " 1   Avg_fees(lacs)               59786 non-null  float64\n",
      " 2   District                     59786 non-null  object \n",
      " 3   University                   59786 non-null  object \n",
      " 4   College Type                 59786 non-null  object \n",
      " 5   Course Name                  59786 non-null  object \n",
      " 6   Course Type                  59786 non-null  object \n",
      " 7   Is Professional              59786 non-null  object \n",
      " 8   Course (Aided / Unaided)     59786 non-null  object \n",
      " 9   Course Duration (In months)  59786 non-null  object \n",
      " 10  Course Category              59786 non-null  object \n",
      "dtypes: float64(2), object(9)\n",
      "memory usage: 5.0+ MB\n"
     ]
    }
   ],
   "source": [
    "df.info()"
   ]
  },
  {
   "cell_type": "code",
   "execution_count": 33,
   "metadata": {
    "scrolled": true
   },
   "outputs": [],
   "source": [
    "y = df['University']\n",
    "# Drop university name from dependent variable and one hot encode major & ugCollege \n",
    "X = df.drop('University',axis=1)"
   ]
  },
  {
   "cell_type": "code",
   "execution_count": 34,
   "metadata": {},
   "outputs": [
    {
     "data": {
      "text/plain": [
       "0        SANT GADGE BABA AMRAVATI UNIVERSITY\n",
       "1        SANT GADGE BABA AMRAVATI UNIVERSITY\n",
       "2        SANT GADGE BABA AMRAVATI UNIVERSITY\n",
       "3        SANT GADGE BABA AMRAVATI UNIVERSITY\n",
       "4        SANT GADGE BABA AMRAVATI UNIVERSITY\n",
       "                        ...                 \n",
       "59781                            NMU JALGAON\n",
       "59782                            NMU JALGAON\n",
       "59783                            NMU JALGAON\n",
       "59784                            NMU JALGAON\n",
       "59785                            NMU JALGAON\n",
       "Name: University, Length: 59786, dtype: object"
      ]
     },
     "execution_count": 34,
     "metadata": {},
     "output_type": "execute_result"
    }
   ],
   "source": [
    "y"
   ]
  },
  {
   "cell_type": "code",
   "execution_count": 35,
   "metadata": {},
   "outputs": [],
   "source": [
    "categorical_features=[feature for feature in X.columns if X[feature].dtype=='O']"
   ]
  },
  {
   "cell_type": "code",
   "execution_count": 36,
   "metadata": {},
   "outputs": [
    {
     "data": {
      "text/plain": [
       "['District',\n",
       " 'College Type',\n",
       " 'Course Name',\n",
       " 'Course Type',\n",
       " 'Is Professional',\n",
       " 'Course (Aided / Unaided)',\n",
       " 'Course Duration (In months)',\n",
       " 'Course Category']"
      ]
     },
     "execution_count": 36,
     "metadata": {},
     "output_type": "execute_result"
    }
   ],
   "source": [
    "categorical_features"
   ]
  },
  {
   "cell_type": "code",
   "execution_count": 37,
   "metadata": {
    "scrolled": true
   },
   "outputs": [],
   "source": [
    "from sklearn.preprocessing import LabelEncoder\n",
    "le= LabelEncoder()\n",
    "X = X.apply(LabelEncoder().fit_transform)"
   ]
  },
  {
   "cell_type": "code",
   "execution_count": 38,
   "metadata": {},
   "outputs": [
    {
     "data": {
      "text/html": [
       "<div>\n",
       "<style scoped>\n",
       "    .dataframe tbody tr th:only-of-type {\n",
       "        vertical-align: middle;\n",
       "    }\n",
       "\n",
       "    .dataframe tbody tr th {\n",
       "        vertical-align: top;\n",
       "    }\n",
       "\n",
       "    .dataframe thead th {\n",
       "        text-align: right;\n",
       "    }\n",
       "</style>\n",
       "<table border=\"1\" class=\"dataframe\">\n",
       "  <thead>\n",
       "    <tr style=\"text-align: right;\">\n",
       "      <th></th>\n",
       "      <th>CGPA</th>\n",
       "      <th>Avg_fees(lacs)</th>\n",
       "      <th>District</th>\n",
       "      <th>College Type</th>\n",
       "      <th>Course Name</th>\n",
       "      <th>Course Type</th>\n",
       "      <th>Is Professional</th>\n",
       "      <th>Course (Aided / Unaided)</th>\n",
       "      <th>Course Duration (In months)</th>\n",
       "      <th>Course Category</th>\n",
       "    </tr>\n",
       "  </thead>\n",
       "  <tbody>\n",
       "    <tr>\n",
       "      <th>0</th>\n",
       "      <td>13</td>\n",
       "      <td>276</td>\n",
       "      <td>2</td>\n",
       "      <td>4</td>\n",
       "      <td>748</td>\n",
       "      <td>7</td>\n",
       "      <td>2</td>\n",
       "      <td>0</td>\n",
       "      <td>2</td>\n",
       "      <td>5</td>\n",
       "    </tr>\n",
       "    <tr>\n",
       "      <th>1</th>\n",
       "      <td>5</td>\n",
       "      <td>224</td>\n",
       "      <td>2</td>\n",
       "      <td>4</td>\n",
       "      <td>764</td>\n",
       "      <td>7</td>\n",
       "      <td>2</td>\n",
       "      <td>0</td>\n",
       "      <td>2</td>\n",
       "      <td>5</td>\n",
       "    </tr>\n",
       "    <tr>\n",
       "      <th>2</th>\n",
       "      <td>109</td>\n",
       "      <td>211</td>\n",
       "      <td>2</td>\n",
       "      <td>4</td>\n",
       "      <td>830</td>\n",
       "      <td>7</td>\n",
       "      <td>2</td>\n",
       "      <td>0</td>\n",
       "      <td>2</td>\n",
       "      <td>5</td>\n",
       "    </tr>\n",
       "    <tr>\n",
       "      <th>3</th>\n",
       "      <td>82</td>\n",
       "      <td>149</td>\n",
       "      <td>2</td>\n",
       "      <td>4</td>\n",
       "      <td>199</td>\n",
       "      <td>9</td>\n",
       "      <td>2</td>\n",
       "      <td>0</td>\n",
       "      <td>4</td>\n",
       "      <td>5</td>\n",
       "    </tr>\n",
       "    <tr>\n",
       "      <th>4</th>\n",
       "      <td>39</td>\n",
       "      <td>85</td>\n",
       "      <td>2</td>\n",
       "      <td>4</td>\n",
       "      <td>185</td>\n",
       "      <td>9</td>\n",
       "      <td>2</td>\n",
       "      <td>0</td>\n",
       "      <td>4</td>\n",
       "      <td>5</td>\n",
       "    </tr>\n",
       "    <tr>\n",
       "      <th>...</th>\n",
       "      <td>...</td>\n",
       "      <td>...</td>\n",
       "      <td>...</td>\n",
       "      <td>...</td>\n",
       "      <td>...</td>\n",
       "      <td>...</td>\n",
       "      <td>...</td>\n",
       "      <td>...</td>\n",
       "      <td>...</td>\n",
       "      <td>...</td>\n",
       "    </tr>\n",
       "    <tr>\n",
       "      <th>59781</th>\n",
       "      <td>63</td>\n",
       "      <td>257</td>\n",
       "      <td>20</td>\n",
       "      <td>1</td>\n",
       "      <td>590</td>\n",
       "      <td>7</td>\n",
       "      <td>1</td>\n",
       "      <td>1</td>\n",
       "      <td>2</td>\n",
       "      <td>16</td>\n",
       "    </tr>\n",
       "    <tr>\n",
       "      <th>59782</th>\n",
       "      <td>23</td>\n",
       "      <td>246</td>\n",
       "      <td>20</td>\n",
       "      <td>1</td>\n",
       "      <td>584</td>\n",
       "      <td>7</td>\n",
       "      <td>1</td>\n",
       "      <td>1</td>\n",
       "      <td>2</td>\n",
       "      <td>16</td>\n",
       "    </tr>\n",
       "    <tr>\n",
       "      <th>59783</th>\n",
       "      <td>103</td>\n",
       "      <td>87</td>\n",
       "      <td>20</td>\n",
       "      <td>1</td>\n",
       "      <td>85</td>\n",
       "      <td>9</td>\n",
       "      <td>1</td>\n",
       "      <td>0</td>\n",
       "      <td>3</td>\n",
       "      <td>16</td>\n",
       "    </tr>\n",
       "    <tr>\n",
       "      <th>59784</th>\n",
       "      <td>43</td>\n",
       "      <td>290</td>\n",
       "      <td>20</td>\n",
       "      <td>1</td>\n",
       "      <td>616</td>\n",
       "      <td>7</td>\n",
       "      <td>1</td>\n",
       "      <td>1</td>\n",
       "      <td>2</td>\n",
       "      <td>16</td>\n",
       "    </tr>\n",
       "    <tr>\n",
       "      <th>59785</th>\n",
       "      <td>32</td>\n",
       "      <td>286</td>\n",
       "      <td>20</td>\n",
       "      <td>1</td>\n",
       "      <td>460</td>\n",
       "      <td>7</td>\n",
       "      <td>1</td>\n",
       "      <td>1</td>\n",
       "      <td>2</td>\n",
       "      <td>2</td>\n",
       "    </tr>\n",
       "  </tbody>\n",
       "</table>\n",
       "<p>59786 rows × 10 columns</p>\n",
       "</div>"
      ],
      "text/plain": [
       "       CGPA  Avg_fees(lacs)  District  College Type  Course Name  Course Type  \\\n",
       "0        13             276         2             4          748            7   \n",
       "1         5             224         2             4          764            7   \n",
       "2       109             211         2             4          830            7   \n",
       "3        82             149         2             4          199            9   \n",
       "4        39              85         2             4          185            9   \n",
       "...     ...             ...       ...           ...          ...          ...   \n",
       "59781    63             257        20             1          590            7   \n",
       "59782    23             246        20             1          584            7   \n",
       "59783   103              87        20             1           85            9   \n",
       "59784    43             290        20             1          616            7   \n",
       "59785    32             286        20             1          460            7   \n",
       "\n",
       "       Is Professional  Course (Aided / Unaided)  Course Duration (In months)  \\\n",
       "0                    2                         0                            2   \n",
       "1                    2                         0                            2   \n",
       "2                    2                         0                            2   \n",
       "3                    2                         0                            4   \n",
       "4                    2                         0                            4   \n",
       "...                ...                       ...                          ...   \n",
       "59781                1                         1                            2   \n",
       "59782                1                         1                            2   \n",
       "59783                1                         0                            3   \n",
       "59784                1                         1                            2   \n",
       "59785                1                         1                            2   \n",
       "\n",
       "       Course Category  \n",
       "0                    5  \n",
       "1                    5  \n",
       "2                    5  \n",
       "3                    5  \n",
       "4                    5  \n",
       "...                ...  \n",
       "59781               16  \n",
       "59782               16  \n",
       "59783               16  \n",
       "59784               16  \n",
       "59785                2  \n",
       "\n",
       "[59786 rows x 10 columns]"
      ]
     },
     "execution_count": 38,
     "metadata": {},
     "output_type": "execute_result"
    }
   ],
   "source": [
    "X"
   ]
  },
  {
   "cell_type": "code",
   "execution_count": 39,
   "metadata": {},
   "outputs": [],
   "source": [
    "from sklearn.tree import DecisionTreeClassifier\n",
    "from sklearn.model_selection import train_test_split\n",
    "from sklearn.metrics import accuracy_score"
   ]
  },
  {
   "cell_type": "code",
   "execution_count": 40,
   "metadata": {},
   "outputs": [],
   "source": [
    "classifier = DecisionTreeClassifier()"
   ]
  },
  {
   "cell_type": "code",
   "execution_count": 41,
   "metadata": {
    "scrolled": true
   },
   "outputs": [
    {
     "data": {
      "text/plain": [
       "DecisionTreeClassifier(ccp_alpha=0.0, class_weight=None, criterion='gini',\n",
       "                       max_depth=None, max_features=None, max_leaf_nodes=None,\n",
       "                       min_impurity_decrease=0.0, min_impurity_split=None,\n",
       "                       min_samples_leaf=1, min_samples_split=2,\n",
       "                       min_weight_fraction_leaf=0.0, presort='deprecated',\n",
       "                       random_state=None, splitter='best')"
      ]
     },
     "execution_count": 41,
     "metadata": {},
     "output_type": "execute_result"
    }
   ],
   "source": [
    "classifier.fit(X,y)"
   ]
  },
  {
   "cell_type": "code",
   "execution_count": 42,
   "metadata": {},
   "outputs": [],
   "source": [
    "X_in = np.array([1,1,1,1,1,1,1,1,1,1])"
   ]
  },
  {
   "cell_type": "code",
   "execution_count": 43,
   "metadata": {},
   "outputs": [],
   "source": [
    "y_pred = classifier.predict([X_in])"
   ]
  },
  {
   "cell_type": "code",
   "execution_count": 44,
   "metadata": {},
   "outputs": [
    {
     "data": {
      "text/plain": [
       "array(['SANT GADGE BABA AMRAVATI UNIVERSITY'], dtype=object)"
      ]
     },
     "execution_count": 44,
     "metadata": {},
     "output_type": "execute_result"
    }
   ],
   "source": [
    "y_pred"
   ]
  },
  {
   "cell_type": "code",
   "execution_count": 45,
   "metadata": {},
   "outputs": [],
   "source": [
    "import pickle\n",
    "pickle_out = open(\"classifier.pkl\",\"wb\")\n",
    "pickle.dump(classifier, pickle_out)\n",
    "pickle_out.close()"
   ]
  },
  {
   "cell_type": "code",
   "execution_count": 46,
   "metadata": {},
   "outputs": [
    {
     "data": {
      "text/plain": [
       "array(['MAHARASHTRA STATE BOARD OF SECONDARY AND HIGHER SECONDARY EDUCATION'],\n",
       "      dtype=object)"
      ]
     },
     "execution_count": 46,
     "metadata": {},
     "output_type": "execute_result"
    }
   ],
   "source": [
    "classifier.predict([[1,4,1,7,2,2,1,2,1,1]])"
   ]
  },
  {
   "cell_type": "code",
   "execution_count": null,
   "metadata": {},
   "outputs": [],
   "source": []
  },
  {
   "cell_type": "code",
   "execution_count": null,
   "metadata": {},
   "outputs": [],
   "source": []
  },
  {
   "cell_type": "code",
   "execution_count": null,
   "metadata": {},
   "outputs": [],
   "source": []
  },
  {
   "cell_type": "code",
   "execution_count": 47,
   "metadata": {},
   "outputs": [
    {
     "data": {
      "text/plain": [
       "Index(['CGPA', 'Avg_fees(lacs)', 'District', 'University', 'College Type',\n",
       "       'Course Name', 'Course Type', 'Is Professional',\n",
       "       'Course (Aided / Unaided)', 'Course Duration (In months)',\n",
       "       'Course Category'],\n",
       "      dtype='object')"
      ]
     },
     "execution_count": 47,
     "metadata": {},
     "output_type": "execute_result"
    }
   ],
   "source": [
    "df.columns"
   ]
  },
  {
   "cell_type": "code",
   "execution_count": 48,
   "metadata": {},
   "outputs": [
    {
     "name": "stdout",
     "output_type": "stream",
     "text": [
      "{13: 8.13, 5: 8.05, 109: 9.09, 82: 8.82, 39: 8.39, 75: 8.75, 54: 8.54, 17: 8.17, 87: 8.87, 48: 8.48, 22: 8.22, 94: 8.94, 24: 8.24, 101: 9.01, 107: 9.07, 61: 8.61, 96: 8.96, 120: 9.2, 111: 9.11, 41: 8.41, 81: 8.81, 104: 9.04, 105: 9.05, 117: 9.17, 42: 8.42, 74: 8.74, 46: 8.46, 27: 8.27, 100: 9.0, 3: 8.03, 30: 8.3, 12: 8.12, 52: 8.52, 93: 8.93, 31: 8.31, 36: 8.36, 16: 8.16, 90: 8.9, 77: 8.77, 99: 8.99, 55: 8.55, 51: 8.51, 18: 8.18, 78: 8.78, 40: 8.4, 19: 8.19, 6: 8.06, 110: 9.1, 70: 8.7, 66: 8.66, 29: 8.29, 116: 9.16, 113: 9.13, 49: 8.49, 102: 9.02, 84: 8.84, 47: 8.47, 11: 8.11, 4: 8.04, 25: 8.25, 43: 8.43, 20: 8.2, 57: 8.57, 10: 8.1, 58: 8.58, 7: 8.07, 63: 8.63, 86: 8.86, 73: 8.73, 118: 9.18, 97: 8.97, 37: 8.37, 21: 8.21, 114: 9.14, 89: 8.89, 34: 8.34, 8: 8.08, 79: 8.79, 33: 8.33, 68: 8.68, 85: 8.85, 69: 8.69, 72: 8.72, 32: 8.32, 15: 8.15, 103: 9.03, 14: 8.14, 0: 8.0, 44: 8.44, 56: 8.56, 28: 8.28, 80: 8.8, 26: 8.26, 95: 8.95, 108: 9.08, 106: 9.06, 112: 9.12, 23: 8.23, 83: 8.83, 35: 8.35, 2: 8.02, 91: 8.91, 1: 8.01, 45: 8.45, 60: 8.6, 65: 8.65, 59: 8.59, 71: 8.71, 88: 8.88, 115: 9.15, 98: 8.98, 50: 8.5, 76: 8.76, 119: 9.19, 64: 8.64, 9: 8.09, 53: 8.53, 67: 8.67, 62: 8.62, 38: 8.38, 92: 8.92}\n"
     ]
    }
   ],
   "source": [
    "df['CGPA_encoded'] = le.fit_transform(df['CGPA'])\n",
    "encoded_labels = df['CGPA_encoded'].unique()\n",
    "original_labels = le.inverse_transform(encoded_labels)\n",
    "label_dict = dict(zip(encoded_labels, original_labels))\n",
    "\n",
    "print(label_dict)"
   ]
  },
  {
   "cell_type": "code",
   "execution_count": 49,
   "metadata": {},
   "outputs": [
    {
     "name": "stdout",
     "output_type": "stream",
     "text": [
      "{276: 3.76, 224: 3.24, 211: 3.11, 149: 2.49, 85: 1.85, 191: 2.91, 100: 2.0, 271: 3.71, 126: 2.26, 77: 1.77, 45: 1.45, 202: 3.02, 22: 1.22, 71: 1.71, 174: 2.74, 52: 1.52, 237: 3.37, 186: 2.86, 115: 2.15, 78: 1.78, 239: 3.39, 190: 2.9, 121: 2.21, 29: 1.29, 195: 2.95, 30: 1.3, 96: 1.96, 187: 2.87, 65: 1.65, 120: 2.2, 12: 1.12, 128: 2.28, 25: 1.25, 103: 2.03, 112: 2.12, 299: 3.99, 292: 3.92, 57: 1.57, 272: 3.72, 297: 3.97, 284: 3.84, 180: 2.8, 189: 2.89, 137: 2.37, 234: 3.34, 62: 1.62, 282: 3.82, 36: 1.36, 205: 3.05, 56: 1.56, 48: 1.48, 166: 2.66, 258: 3.58, 261: 3.61, 66: 1.66, 243: 3.43, 267: 3.67, 3: 1.03, 193: 2.93, 83: 1.83, 88: 1.88, 21: 1.21, 238: 3.38, 172: 2.72, 280: 3.8, 278: 3.78, 49: 1.49, 228: 3.28, 184: 2.84, 143: 2.43, 213: 3.13, 161: 2.61, 255: 3.55, 200: 3.0, 34: 1.34, 270: 3.7, 162: 2.62, 27: 1.27, 212: 3.12, 94: 1.94, 40: 1.4, 105: 2.05, 277: 3.77, 32: 1.32, 89: 1.89, 54: 1.54, 111: 2.11, 38: 1.38, 152: 2.52, 188: 2.88, 101: 2.01, 289: 3.89, 73: 1.73, 63: 1.63, 275: 3.75, 28: 1.28, 291: 3.91, 192: 2.92, 106: 2.06, 173: 2.73, 215: 3.15, 241: 3.41, 286: 3.86, 33: 1.33, 240: 3.4, 119: 2.19, 287: 3.87, 232: 3.32, 163: 2.63, 230: 3.3, 204: 3.04, 127: 2.27, 139: 2.39, 251: 3.51, 226: 3.26, 214: 3.14, 87: 1.87, 203: 3.03, 221: 3.21, 140: 2.4, 295: 3.95, 245: 3.45, 274: 3.74, 154: 2.54, 14: 1.14, 93: 1.93, 250: 3.5, 67: 1.67, 298: 3.98, 296: 3.96, 218: 3.18, 98: 1.98, 167: 2.67, 109: 2.09, 0: 1.0, 59: 1.59, 116: 2.16, 300: 4.0, 69: 1.69, 43: 1.43, 6: 1.06, 5: 1.05, 227: 3.27, 159: 2.59, 216: 3.16, 252: 3.52, 79: 1.79, 288: 3.88, 108: 2.08, 294: 3.94, 130: 2.3, 11: 1.11, 9: 1.09, 145: 2.45, 70: 1.7, 125: 2.25, 169: 2.69, 165: 2.65, 18: 1.18, 86: 1.86, 197: 2.97, 150: 2.5, 4: 1.04, 206: 3.06, 285: 3.85, 178: 2.78, 138: 2.38, 253: 3.53, 132: 2.32, 175: 2.75, 279: 3.79, 55: 1.55, 156: 2.56, 61: 1.61, 157: 2.57, 247: 3.47, 37: 1.37, 246: 3.46, 117: 2.17, 146: 2.46, 171: 2.71, 148: 2.48, 177: 2.77, 92: 1.92, 68: 1.68, 35: 1.35, 223: 3.23, 141: 2.41, 142: 2.42, 265: 3.65, 134: 2.34, 293: 3.93, 46: 1.46, 231: 3.31, 24: 1.24, 95: 1.95, 220: 3.2, 198: 2.98, 160: 2.6, 182: 2.82, 104: 2.04, 269: 3.69, 283: 3.83, 53: 1.53, 259: 3.59, 196: 2.96, 229: 3.29, 219: 3.19, 31: 1.31, 199: 2.99, 102: 2.02, 64: 1.64, 194: 2.94, 58: 1.58, 244: 3.44, 51: 1.51, 176: 2.76, 273: 3.73, 26: 1.26, 217: 3.17, 41: 1.41, 15: 1.15, 168: 2.68, 122: 2.22, 208: 3.08, 107: 2.07, 248: 3.48, 91: 1.91, 81: 1.81, 179: 2.79, 76: 1.76, 235: 3.35, 7: 1.07, 2: 1.02, 185: 2.85, 129: 2.29, 113: 2.13, 207: 3.07, 257: 3.57, 90: 1.9, 209: 3.09, 80: 1.8, 82: 1.82, 233: 3.33, 164: 2.64, 263: 3.63, 222: 3.22, 75: 1.75, 181: 2.81, 153: 2.53, 210: 3.1, 19: 1.19, 131: 2.31, 114: 2.14, 151: 2.51, 13: 1.13, 155: 2.55, 266: 3.66, 158: 2.58, 47: 1.47, 97: 1.97, 16: 1.16, 135: 2.35, 50: 1.5, 256: 3.56, 1: 1.01, 44: 1.44, 144: 2.44, 183: 2.83, 124: 2.24, 84: 1.84, 260: 3.6, 249: 3.49, 262: 3.62, 23: 1.23, 17: 1.17, 74: 1.74, 72: 1.72, 290: 3.9, 170: 2.7, 264: 3.64, 254: 3.54, 118: 2.18, 242: 3.42, 10: 1.1, 225: 3.25, 136: 2.36, 201: 3.01, 268: 3.68, 110: 2.1, 236: 3.36, 147: 2.47, 20: 1.2, 99: 1.99, 60: 1.6, 281: 3.81, 123: 2.23, 133: 2.33, 42: 1.42, 8: 1.08, 39: 1.39}\n"
     ]
    }
   ],
   "source": [
    "df['Avg_fees_encoded'] = le.fit_transform(df['Avg_fees(lacs)'])\n",
    "encoded_labels = df['Avg_fees_encoded'].unique()\n",
    "original_labels = le.inverse_transform(encoded_labels)\n",
    "label_dict = dict(zip(encoded_labels, original_labels))\n",
    "\n",
    "print(label_dict)"
   ]
  },
  {
   "cell_type": "code",
   "execution_count": 50,
   "metadata": {},
   "outputs": [
    {
     "name": "stdout",
     "output_type": "stream",
     "text": [
      "{2: 'Amravati', 1: 'Akola', 6: 'Buldana', 34: 'Washim', 35: 'Yavatmal', 25: 'Pune', 3: 'Aurangabad', 22: 'Osmanabad', 19: 'Nanded', 15: 'Latur', 4: 'Beed', 11: 'Hingoli', 13: 'Jalna', 24: 'Parbhani', 16: 'Mumbai City', 17: 'Mumbai Suburban', 27: 'Ratnagiri', 26: 'Raigarh', 30: 'Sindhudurg', 32: 'Thane', 23: 'Palghar', 18: 'Nagpur', 7: 'Chandrapur', 5: 'Bhandara', 9: 'Gadchiroli', 10: 'Gondiya', 33: 'Wardha', 12: 'Jalgaon', 21: 'Nashik', 0: 'Ahmednagar', 8: 'Dhule', 20: 'Nandurbar', 14: 'Kolhapur', 31: 'Solapur', 29: 'Satara', 28: 'Sangli'}\n"
     ]
    }
   ],
   "source": [
    "df['District_encoded'] = le.fit_transform(df['District'])\n",
    "encoded_labels = df['District_encoded'].unique()\n",
    "original_labels = le.inverse_transform(encoded_labels)\n",
    "label_dict = dict(zip(encoded_labels, original_labels))\n",
    "\n",
    "print(label_dict)"
   ]
  },
  {
   "cell_type": "code",
   "execution_count": 51,
   "metadata": {},
   "outputs": [
    {
     "name": "stdout",
     "output_type": "stream",
     "text": [
      "{4: 'Government', 9: 'University Department', 5: 'Government-Aided', 8: 'Un-Aided', 6: 'NonAided', 1: 'Aided', 10: 'University Managed', 11: 'University Managed (NonAided)', 2: 'Deemed University', 0: ' Dist. Thane ?', 7: 'Partial Aided', 3: 'GOVERNMENT'}\n"
     ]
    }
   ],
   "source": [
    "df['College Type_encoded'] = le.fit_transform(df['College Type'])\n",
    "encoded_labels = df['College Type_encoded'].unique()\n",
    "original_labels = le.inverse_transform(encoded_labels)\n",
    "label_dict = dict(zip(encoded_labels, original_labels))\n",
    "\n",
    "print(label_dict)"
   ]
  },
  {
   "cell_type": "code",
   "execution_count": 52,
   "metadata": {},
   "outputs": [
    {
     "name": "stdout",
     "output_type": "stream",
     "text": [
      "{748: 'Master of Engineering (M. E.) - Computer Science and Engineering', 764: 'Master of Engineering (M. E.) - Electrical Power System', 830: 'Master of Engineering (M. E.) - Thermal Power Engineering', 199: 'Bachelor of Engineering (B. E.) - Information Technology', 185: 'Bachelor of Engineering (B. E.) - Electrical Engineering', 200: 'Bachelor of Engineering (B. E.) - Instrumentation Engineering', 778: 'Master of Engineering (M. E.) - Geo Technical Engineering', 823: 'Master of Engineering (M. E.) - Production Engineering', 192: 'Bachelor of Engineering (B. E.) - Electronics and Telecommunication Engg', 776: 'Master of Engineering (M. E.) - Environmental Engineering', 725: 'Master of Engineering (M. E.) - Advanced Electronics', 765: 'Master of Engineering (M. E.) - Electrical and Power Engineering', 766: 'Master of Engineering (M. E.) - Electronic System and Communication', 179: 'Bachelor of Engineering (B. E.) - Computer Science and Engineering', 1119: 'Post H.S.C. Diploma in H.M.C.T. - Hotel Management and Catering Technology', 827: 'Master of Engineering (M. E.) - Structural Engineering', 176: 'Bachelor of Engineering (B. E.) - Civil Engineering', 204: 'Bachelor of Engineering (B. E.) - Mechanical Engineering', 856: 'Master of Pharmacy - Pharmacognosy and Physochemistry', 860: 'Master of Pharmacy - Quality Assurance', 260: 'Bachelor of Pharmacy - Pharmacy', 1091: 'Pharma D - Pharm D ( Doctor of Pharmacy)', 749: 'Master of Engineering (M. E.) - Computer Science and Information Technology', 284: 'Bachelor of Technology (B. Tech.) - Chemical Technology', 430: 'M. B. A.', 680: 'Master in Computer Application', 1130: 'Post S.S.C. Diploma in Engineering (Polytechnics) - Computer Engineering', 1148: 'Post S.S.C. Diploma in Engineering (Polytechnics) - Information Technology', 1136: 'Post S.S.C. Diploma in Engineering (Polytechnics) - Electrical Engineering', 1157: 'Post S.S.C. Diploma in Engineering (Polytechnics) - Mechanical Engineering', 1140: 'Post S.S.C. Diploma in Engineering (Polytechnics) - Electronics Engineering', 1129: 'Post S.S.C. Diploma in Engineering (Polytechnics) - Civil and Rural Engineering', 1166: 'Post S.S.C. Diploma in Engineering (Polytechnics) - Plastic and Polymer Engineering', 1143: 'Post S.S.C. Diploma in Engineering (Polytechnics) - Electronics and Telecommunication Engg', 1120: 'Post H.S.C. Diploma in Pharmacy (D. Pharm.) - Pharmacy', 1127: 'Post S.S.C. Diploma in Engineering (Polytechnics) - Civil Engineering', 1142: 'Post S.S.C. Diploma in Engineering (Polytechnics) - Electronics and Communication Engineering', 1121: 'Post S.S.C. Diploma in Engineering (Polytechnics) - Administration Services', 1125: 'Post S.S.C. Diploma in Engineering (Polytechnics) - Automobile Engineering', 1135: 'Post S.S.C. Diploma in Engineering (Polytechnics) - Dress Designing and Garment Manufacturing', 1149: 'Post S.S.C. Diploma in Engineering (Polytechnics) - Instrumentation Engineering', 309: 'Bachelor of Technology (B. Tech.) - Mechanical Engineering', 1126: 'Post S.S.C. Diploma in Engineering (Polytechnics) - Chemical Engineering', 292: 'Bachelor of Technology (B. Tech.) - Electrical Engineering', 302: 'Bachelor of Technology (B. Tech.) - Electronics and Telecommunication Engg', 285: 'Bachelor of Technology (B. Tech.) - Civil Engineering', 286: 'Bachelor of Technology (B. Tech.) - Computer Engineering', 742: 'Master of Engineering (M. E.) - Computer Engineering', 755: 'Master of Engineering (M. E.) - Digital Electronics', 726: 'Master of Engineering (M. E.) - Advanced Mfg & Mechanical System design', 184: 'Bachelor of Engineering (B. E.) - Electrical Engg[Electronics and Power]', 824: 'Master of Engineering (M. E.) - Production Technology and Management', 731: 'Master of Engineering (M. E.) - CAD-CAM', 784: 'Master of Engineering (M. E.) - Information Technology', 235: 'Bachelor of Engineering (Direct Second Year) - Civil Engineering', 829: 'Master of Engineering (M. E.) - Thermal Engineering', 681: 'Master in Computer Application (Direct Second Year) - Master in  Computer Application(2nd Year)', 771: 'Master of Engineering (M. E.) - Electronics and Telecommunication Engg', 150: 'Bachelor of Architecture - Architecture', 237: 'Bachelor of Engineering (Direct Second Year) - Computer Science and Engineering', 240: 'Bachelor of Engineering (Direct Second Year) - Electronics and Telecommunication Engg', 857: 'Master of Pharmacy - Pharmacology', 852: 'Master of Pharmacy - Pharmaceutics', 848: 'Master of Pharmacy - Industrial  Pharmacy', 175: 'Bachelor of Engineering (B. E.) - Chemical Engineering', 226: 'Bachelor of Engineering (B. E.) - Production Engineering', 735: 'Master of Engineering (M. E.) - Civil Engineering (Structural Engineering)', 223: 'Bachelor of Engineering (B. E.) - Polymer Technology', 733: 'Master of Engineering (M. E.) - Chemical Engineering', 231: 'Bachelor of Engineering (B. E.) - Textile Engineering / Technology', 796: 'Master of Engineering (M. E.) - Mechanical Engineering (CAD/CAM)', 795: 'Master of Engineering (M. E.) - Mechanical Engineering', 794: 'Master of Engineering (M. E.) - Mechanical CAD/CAM', 178: 'Bachelor of Engineering (B. E.) - Computer Engineering', 172: 'Bachelor of Engineering (B. E.) - Bio Medical Engineering', 831: 'Master of Engineering (M. E.) - Transportation Engineering and Management', 242: 'Bachelor of Engineering (Direct Second Year) - Mechanical Engineering', 750: 'Master of Engineering (M. E.) - Construction Engg and Management', 186: 'Bachelor of Engineering (B. E.) - Electrical and Electronics Engineering', 758: 'Master of Engineering (M. E.) - Electrical & Electronics Engg', 760: 'Master of Engineering (M. E.) - Electrical Engineering', 762: 'Master of Engineering (M. E.) - Electrical Engineering [Electronics & Power]', 287: 'Bachelor of Technology (B. Tech.) - Computer Science and Engineering', 183: 'Bachelor of Engineering (B. E.) - Electrical Engg [Electrical and Power]', 291: 'Bachelor of Technology (B. Tech.) - Electrical Engg[Electronics and Power]', 858: 'Master of Pharmacy - Pharmacutical Chemistry', 861: 'Master of Pharmacy - Quality Assurance Techniques', 1147: 'Post S.S.C. Diploma in Engineering (Polytechnics) - Industrial Electronics', 1132: 'Post S.S.C. Diploma in Engineering (Polytechnics) - Computer Technology', 1137: 'Post S.S.C. Diploma in Engineering (Polytechnics) - Electrical Power System', 1162: 'Post S.S.C. Diploma in Engineering (Polytechnics) - Mining and Mine Surveying', 1131: 'Post S.S.C. Diploma in Engineering (Polytechnics) - Computer Science and Engineering', 189: 'Bachelor of Engineering (B. E.) - Electronics Engineering', 763: 'Master of Engineering (M. E.) - Electrical Machine and Drive', 838: 'Master of Engineering (M. E.) - Water Resource Engineering', 768: 'Master of Engineering (M. E.) - Electronics Engineering', 1168: 'Post S.S.C. Diploma in Engineering (Polytechnics) - Printing Technology', 1158: 'Post S.S.C. Diploma in Engineering (Polytechnics) - Medical Electronics', 1169: 'Post S.S.C. Diploma in Engineering (Polytechnics) - Production Engineering', 283: 'Bachelor of Technology (B. Tech.) - Chemical Engineering', 966: 'Master of Technology (M. Tech.) - Textile Technology', 965: 'Master of Technology (M. Tech.) - Structural Engineering', 938: 'Master of Technology (M. Tech.) - Mechanical - Product Life Cycle Management', 943: 'Master of Technology (M. Tech.) - Mechanical Engineering (CAD/CAM)', 909: 'Master of Technology (M. Tech.) - Electronics Engineering', 306: 'Bachelor of Technology (B. Tech.) - Information Technology', 520: 'M.E', 177: 'Bachelor of Engineering (B. E.) - Civil and Water Management Engineering', 928: 'Master of Technology (M. Tech.) - Information Technology', 929: 'Master of Technology (M. Tech.) - Instrumentation Engineering', 974: 'Master of Technology (M. Tech.) - VLSI and Embedded Systems Design', 316: 'Bachelor of Technology (B. Tech.) - Production Engineering', 318: 'Bachelor of Technology (B. Tech.) - Textile Technology', 892: 'Master of Technology (M. Tech.) - Computer Networks and Information Security', 307: 'Bachelor of Technology (B. Tech.) - Instrumentation Engineering', 946: 'Master of Technology (M. Tech.) - Mechanical Engineering(Production)', 891: 'Master of Technology (M. Tech.) - Computer Networks & Internet Security', 736: 'Master of Engineering (M. E.) - Civil Engineering (Water Management)', 300: 'Bachelor of Technology (B. Tech.) - Electronics and Communication Engineering', 304: 'Bachelor of Technology (B. Tech.) - Food Technology', 902: 'Master of Technology (M. Tech.) - Drugs & Pharmaceuticals', 314: 'Bachelor of Technology (B. Tech.) - Pharmaceutical and Fine Chemical Technology', 1141: 'Post S.S.C. Diploma in Engineering (Polytechnics) - Electronics Production & Maintenance', 297: 'Bachelor of Technology (B. Tech.) - Electronics Design Technology', 298: 'Bachelor of Technology (B. Tech.) - Electronics Engineering', 299: 'Bachelor of Technology (B. Tech.) - Electronics System Engineering', 1021: 'P.G.D.M. (Autonomous) - Post Graduate Diploma in Management (Agribusiness Management)', 790: 'Master of Engineering (M. E.) - Manufacturing Engineering', 190: 'Bachelor of Engineering (B. E.) - Electronics and Communication Engineering', 915: 'Master of Technology (M. Tech.) - Electronics and Telecommunication Engg', 884: 'Master of Technology (M. Tech.) - Civil Engineering', 893: 'Master of Technology (M. Tech.) - Computer Science and Engineering', 941: 'Master of Technology (M. Tech.) - Mechanical Engineering', 294: 'Bachelor of Technology (B. Tech.) - Electrical and Electronics [Power System]', 896: 'Master of Technology (M. Tech.) - Computer Science and Technology', 279: 'Bachelor of Technology (B. Tech.) - Agricultural Engineering', 315: 'Bachelor of Technology (B. Tech.) - Plastic and Polymer Engineering', 914: 'Master of Technology (M. Tech.) - Electronics and Telecommunication', 922: 'Master of Technology (M. Tech.) - Food Processing Technology', 905: 'Master of Technology (M. Tech.) - Electrical Drives and Control', 925: 'Master of Technology (M. Tech.) - Heat Power Engineering', 293: 'Bachelor of Technology (B. Tech.) - Electrical and Electronics Engineering', 933: 'Master of Technology (M. Tech.) - Manufacturing Engineering', 875: 'Master of Technology (M. Tech.) - Automation', 917: 'Master of Technology (M. Tech.) - Embedded System', 963: 'Master of Technology (M. Tech.) - Software Engineering', 887: 'Master of Technology (M. Tech.) - Communication Engineering', 1170: 'Post S.S.C. Diploma in Engineering (Polytechnics) - Production Technology', 935: 'Master of Technology (M. Tech.) - Manufacturing Processing Engineering', 883: 'Master of Technology (M. Tech.) - Civil - Structural Engineering', 913: 'Master of Technology (M. Tech.) - Electronics and Communication Engineering', 889: 'Master of Technology (M. Tech.) - Computer Engineering', 290: 'Bachelor of Technology (B. Tech.) - Electrical Engg [Electrical and Power]', 932: 'Master of Technology (M. Tech.) - Machine Design', 940: 'Master of Technology (M. Tech.) - Mechanical Design', 976: 'Master of Technology (M. Tech.) - Water Resource Engineering', 888: 'Master of Technology (M. Tech.) - Computer Aided Design Manufacture and Automation', 685: 'Master of Architecture - Architecture', 907: 'Master of Technology (M. Tech.) - Electrical Power System', 947: 'Master of Technology (M. Tech.) - Mechanical Manufacturing Engineering', 690: 'Master of Architecture - Environmental Architecture', 890: 'Master of Technology (M. Tech.) - Computer Networking and Engineering', 900: 'Master of Technology (M. Tech.) - Digital Communications', 295: 'Bachelor of Technology (B. Tech.) - Electrical and Instrumentation Engineering', 898: 'Master of Technology (M. Tech.) - Control System Engineering', 895: 'Master of Technology (M. Tech.) - Computer Science and Information Technology', 196: 'Bachelor of Engineering (B. E.) - Food Engineering and Technology', 826: 'Master of Engineering (M. E.) - Software Engineering', 1019: 'P.G.D.M. (Autonomous) - Post Graduate Diploma In Management', 187: 'Bachelor of Engineering (B. E.) - Electrical and Power Engineering', 743: 'Master of Engineering (M. E.) - Computer Networking and Engineering', 854: 'Master of Pharmacy - Pharmacitucal Analysis', 1122: 'Post S.S.C. Diploma in Engineering (Polytechnics) - Agricultural Engineering', 1144: 'Post S.S.C. Diploma in Engineering (Polytechnics) - Fashion and Clothing Technology', 1159: 'Post S.S.C. Diploma in Engineering (Polytechnics) - Medical Laboratory Technology', 1124: 'Post S.S.C. Diploma in Engineering (Polytechnics) - Architecture Assistantship', 151: 'Bachelor of Architecture - B.Architecture Engineering', 153: 'Bachelor of Architecture - Interior Design', 152: 'Bachelor of Architecture - B.Architecture General', 508: 'M.B.A.(Marketing Management)', 506: 'M.B.A.(Human Resource Management)', 643: 'MBA ( Finance )', 205: 'Bachelor of Engineering (B. E.) - Mechanical Engineering (Auto)', 203: 'Bachelor of Engineering (B. E.) - Mechanical & Automation Engineering', 431: 'M. M. S.', 1028: 'P.G.D.M. (Autonomous) - Post Graduate Diploma in Management (Business Management)', 509: 'M.B.A./M.M.S. - P.G.D.B.M', 1026: 'P.G.D.M. (Autonomous) - Post Graduate Diploma in Management (Business Administration)', 1172: 'Post S.S.C. Diploma in Engineering (Polytechnics) - Rubber Technology', 1155: 'Post S.S.C. Diploma in Engineering (Polytechnics) - Leather Technology', 1154: 'Post S.S.C. Diploma in Engineering (Polytechnics) - Leather Goods and Footwear Technology', 1150: 'Post S.S.C. Diploma in Engineering (Polytechnics) - Instrumentation and Control Engineering', 1145: 'Post S.S.C. Diploma in Engineering (Polytechnics) - Food Technology', 1177: 'Post S.S.C. Diploma in Engineering (Polytechnics) - Travel and Tourism', 961: 'Master of Technology (M. Tech.) - Project Mangement', 1175: 'Post S.S.C. Diploma in Engineering (Polytechnics) - Textile Manufactures', 876: 'Master of Technology (M. Tech.) - Automobile Engineering', 967: 'Master of Technology (M. Tech.) - Thermal Engineering', 950: 'Master of Technology (M. Tech.) - Network Infrastructure Management', 960: 'Master of Technology (M. Tech.) - Production Engineering', 880: 'Master of Technology (M. Tech.) - CAD-CAM', 637: 'M.Text. - Technical Textile', 233: 'Bachelor of Engineering (B. E.) - Textile Technology', 819: 'Master of Engineering (M. E.) - Power Electronics and Power Systems', 751: 'Master of Engineering (M. E.) - Construction Management', 789: 'Master of Engineering (M. E.) - Machine Design', 855: 'Master of Pharmacy - Pharmacognosy', 859: 'Master of Pharmacy - Pharmacy', 847: 'Master of Pharmacy - Harbal Drug Technology', 1176: 'Post S.S.C. Diploma in Engineering (Polytechnics) - Textile Technology', 1174: 'Post S.S.C. Diploma in Engineering (Polytechnics) - Textile Chemistry', 1153: 'Post S.S.C. Diploma in Engineering (Polytechnics) - Knitting Technology', 1128: 'Post S.S.C. Diploma in Engineering (Polytechnics) - Civil Engineering (Sandwich)', 1167: 'Post S.S.C. Diploma in Engineering (Polytechnics) - Plastics Engineering', 1134: 'Post S.S.C. Diploma in Engineering (Polytechnics) - Digital Electronics', 1090: 'Ph.D. in Marathi', 1151: 'Post S.S.C. Diploma in Engineering (Polytechnics) - Interior Design', 1123: 'Post S.S.C. Diploma in Engineering (Polytechnics) - Apperel Manufacturing and Design', 1163: 'Post S.S.C. Diploma in Engineering (Polytechnics) - Ophthalmic Technology', 313: 'Bachelor of Technology (B. Tech.) - Petro Chemical Engineering', 881: 'Master of Technology (M. Tech.) - Chemical Engineering', 957: 'Master of Technology (M. Tech.) - Power Systems', 969: 'Master of Technology (M. Tech.) - Thermal and Fluid Engineering', 770: 'Master of Engineering (M. E.) - Electronics and Communication Engineering', 180: 'Bachelor of Engineering (B. E.) - Computer Science and Technology', 747: 'Master of Engineering (M. E.) - Computer Science & Technology', 212: 'Bachelor of Engineering (B. E.) - Oil,Oleochemicals and Surfactants Technology', 222: 'Bachelor of Engineering (B. E.) - Polymer Engineering and Technology', 218: 'Bachelor of Engineering (B. E.) - Pharmaceuticals Chemistry and Technology', 195: 'Bachelor of Engineering (B. E.) - Fibres and Textile Processing Technology', 228: 'Bachelor of Engineering (B. E.) - Surface Coating Technology', 182: 'Bachelor of Engineering (B. E.) - Dyestuff Technology', 1165: 'Post S.S.C. Diploma in Engineering (Polytechnics) - Petro Chemical Engineering', 1032: 'P.G.D.M. (Autonomous) - Post Graduate Diploma in Management (Finance)', 1046: 'P.G.D.M. (Autonomous) - Post Graduate Diploma in Management (Marketing)', 507: 'M.B.A.(Information Technology)', 1031: 'P.G.D.M. (Autonomous) - Post Graduate Diploma in Management (Executive)', 1018: 'P.G.D.M. (Autonomous) - POST GRADUATE DIPLOMA IN MANAGEMENT (COMMUNICATIONS)', 1042: 'P.G.D.M. (Autonomous) - Post Graduate Diploma in Management (International Business)', 1033: 'P.G.D.M. (Autonomous) - Post Graduate Diploma in Management (Financial Services)', 1029: 'P.G.D.M. (Autonomous) - Post Graduate Diploma in Management (Communication Management)', 1048: 'P.G.D.M. (Autonomous) - Post Graduate Diploma in Management (Retail Management)', 1049: 'P.G.D.M. (Autonomous) - Post Graduate Diploma in Management (Rural Managment)', 1035: 'P.G.D.M. (Autonomous) - Post Graduate Diploma in Management (Health Care)', 1051: 'P.G.D.M. (Autonomous) - Research & Business Analytics', 1030: 'P.G.D.M. (Autonomous) - Post Graduate Diploma in Management (E-Business)', 1017: 'P.G.D.M. (Autonomous) - Media & Entertainment', 1027: 'P.G.D.M. (Autonomous) - Post Graduate Diploma in Management (Business Design)', 1047: 'P.G.D.M. (Autonomous) - Post Graduate Diploma in Management (Pharmaceutical Management)', 1025: 'P.G.D.M. (Autonomous) - Post Graduate Diploma in Management (Bio Technology)', 1034: 'P.G.D.M. (Autonomous) - Post Graduate Diploma in Management (Health Care and Pharmaceutial Management)', 1043: 'P.G.D.M. (Autonomous) - Post Graduate Diploma in Management (Management)', 1053: 'P.G.D.M. - Masters in Business Administration (Executive)', 981: 'Masters in Business Administration(Executive)', 1100: 'Post Graduate Diploma In Management (University Affiliated) - Post Graduate Diploma in Management (Executive)', 1097: 'Post Graduate Diploma In Management (University Affiliated) - Post Graduate Diploma In Management (Media Management)', 1098: 'Post Graduate Diploma In Management (University Affiliated) - Post Graduate Diploma in Management', 1020: 'P.G.D.M. (Autonomous) - Post Graduate Diploma In Management (General)', 798: 'Master of Engineering (M. E.) - Mechanical Engineering (Energy System and Management)', 761: 'Master of Engineering (M. E.) - Electrical Engineering (Power Plant Engg & Energy Management)', 746: 'Master of Engineering (M. E.) - Computer Networks and Information Security', 779: 'Master of Engineering (M. E.) - Heat Power Engineering', 239: 'Bachelor of Engineering (Direct Second Year) - Electronics Engineering', 236: 'Bachelor of Engineering (Direct Second Year) - Computer Engineering', 241: 'Bachelor of Engineering (Direct Second Year) - Information Technology', 1139: 'Post S.S.C. Diploma in Engineering (Polytechnics) - Electronic and Communication Technology', 802: 'Master of Engineering (M. E.) - Mechanical Engineering Design', 171: 'Bachelor of Engineering (B. E.) - Automobile Engineering', 791: 'Master of Engineering (M. E.) - Manufacturing System Engineering', 1022: 'P.G.D.M. (Autonomous) - Post Graduate Diploma in Management (Banking and Finanace)', 1023: 'P.G.D.M. (Autonomous) - Post Graduate Diploma in Management (Banking and Financial Services)', 1024: 'P.G.D.M. (Autonomous) - Post Graduate Diploma in Management (Banking, Insurance & Finance)', 786: 'Master of Engineering (M. E.) - Instrumentation Engineering', 173: 'Bachelor of Engineering (B. E.) - Bio Technology', 730: 'Master of Engineering (M. E.) - Bio Medical Engineering', 1037: 'P.G.D.M. (Autonomous) - Post Graduate Diploma in Management (Human Resource)', 1045: 'P.G.D.M. (Autonomous) - Post Graduate Diploma in Management (Marketing and Finance)', 774: 'Master of Engineering (M. E.) - Energy Engineering', 783: 'Master of Engineering (M. E.) - Information Security', 797: 'Master of Engineering (M. E.) - Mechanical Engineering (CAD/CAM, Robotics)', 787: 'Master of Engineering (M. E.) - Instrumentation and Control Engineering', 734: 'Master of Engineering (M. E.) - Civil Engineering', 207: 'Bachelor of Engineering (B. E.) - Mechatronics Engineering', 818: 'Master of Engineering (M. E.) - Power Electronics and Drives', 853: 'Master of Pharmacy - Pharmaceutics(Drug regulatory affairs)', 801: 'Master of Engineering (M. E.) - Mechanical Engineering (Thermal)', 775: 'Master of Engineering (M. E.) - Energy Systems and Management', 825: 'Master of Engineering (M. E.) - Signal Processing', 803: 'Master of Engineering (M. E.) - Mechanical Engineering(Product Design & Dev.)', 785: 'Master of Engineering (M. E.) - Information Technology(Information & Cyber Warfare))', 800: 'Master of Engineering (M. E.) - Mechanical Engineering (Machine Design)', 845: 'Master of Pharmacy - Bio Pharmaceutics', 850: 'Master of Pharmacy - Pharmaceutical Science', 849: 'Master of Pharmacy - Pharmaceutical Quality Assurance', 698: 'Master of Architecture - Urban Design', 700: 'Master of Architecture - Urban and Regional Planning', 697: 'Master of Architecture - Urban Conservation', 687: 'Master of Architecture - Computer Applications', 695: 'Master of Architecture - Project Management', 694: 'Master of Architecture - Landscape Architecture', 1133: 'Post S.S.C. Diploma in Engineering (Polytechnics) - Construction Technology', 191: 'Bachelor of Engineering (B. E.) - Electronics and Electrical Engineering', 206: 'Bachelor of Engineering (B. E.) - Mechanical Engineering[Sandwich]', 208: 'Bachelor of Engineering (B. E.) - Mechatronics Engineering (Sandwich)', 809: 'Master of Engineering (M. E.) - Oil', 812: 'Master of Engineering (M. E.) - Paints', 777: 'Master of Engineering (M. E.) - Food Technology', 214: 'Bachelor of Engineering (B. E.) - Paper and Pulp Technology', 197: 'Bachelor of Engineering (B. E.) - Food Technology', 210: 'Bachelor of Engineering (B. E.) - Oil Technology', 216: 'Bachelor of Engineering (B. E.) - Petro Chemical Technology', 813: 'Master of Engineering (M. E.) - Petro Chemical Engineering', 220: 'Bachelor of Engineering (B. E.) - Plastic and Polymer Technology', 811: 'Master of Engineering (M. E.) - Paint Technology', 244: 'Bachelor of H.M.C.T. - Hotel Management and Catering Technology', 1160: 'Post S.S.C. Diploma in Engineering (Polytechnics) - Metallurgical Engineering', 1164: 'Post S.S.C. Diploma in Engineering (Polytechnics) - Packaging Technology', 1171: 'Post S.S.C. Diploma in Engineering (Polytechnics) - Pulp Technology', 181: 'Bachelor of Engineering (B. E.) - Computer Technology', 721: 'Master of Business Administration (Integrated)', 782: 'Master of Engineering (M. E.) - Industrial Engineering', 198: 'Bachelor of Engineering (B. E.) - Industrial Engineering', 188: 'Bachelor of Engineering (B. E.) - Electronics Design Technology', 832: 'Master of Engineering (M. E.) - VLSI', 837: 'Master of Engineering (M. E.) - VLSI, DSP, DW', 953: 'Master of Technology (M. Tech.) - Power Electronics and Drives', 772: 'Master of Engineering (M. E.) - Embedded System and Computing', 971: 'Master of Technology (M. Tech.) - Transportation Engineering', 154: 'Bachelor of Arts', 931: 'Master of Technology (M. Tech.) - Integrated Power Systems', 839: 'Master of Engineering (M. E.) - Wireless Communication and Computing', 807: 'Master of Engineering (M. E.) - Mobile Technology', 972: 'Master of Technology (M. Tech.) - VLSI', 975: 'Master of Technology (M. Tech.) - VLSI and Embeded System', 836: 'Master of Engineering (M. E.) - VLSI and Embeded System', 912: 'Master of Technology (M. Tech.) - Electronics Engineering (VLSI)', 911: 'Master of Technology (M. Tech.) - Electronics Engineering (Communication)', 945: 'Master of Technology (M. Tech.) - Mechanical Engineering Design', 903: 'Master of Technology (M. Tech.) - Electrical (Industrial Drives and Control)', 170: 'Bachelor of Engineering (B. E.) - Aeronautical Engineering', 956: 'Master of Technology (M. Tech.) - Power Electronics and Systems', 979: 'Master of Technology (M. Tech.) - Wireless Communication and Computing', 788: 'Master of Engineering (M. E.) - Integrated Power Systems', 964: 'Master of Technology (M. Tech.) - Software System', 1040: 'P.G.D.M. (Autonomous) - Post Graduate Diploma in Management (Information Technology)', 289: 'Bachelor of Technology (B. Tech.) - Computer Technology', 312: 'Bachelor of Technology (B. Tech.) - Mining Engineering', 918: 'Master of Technology (M. Tech.) - Energy Systems and Management', 973: 'Master of Technology (M. Tech.) - VLSI Design', 769: 'Master of Engineering (M. E.) - Electronics Engineering (Communication)', 224: 'Bachelor of Engineering (B. E.) - Power Engineering', 834: 'Master of Engineering (M. E.) - VLSI Design and Embeded System', 833: 'Master of Engineering (M. E.) - VLSI Design', 739: 'Master of Engineering (M. E.) - Communication Engineering', 1161: 'Post S.S.C. Diploma in Engineering (Polytechnics) - Mining Engineering', 759: 'Master of Engineering (M. E.) - Electrical (Power Electronics and Power System)', 691: 'Master of Architecture - Industrial Design', 699: 'Master of Architecture - Urban Development', 1138: 'Post S.S.C. Diploma in Engineering (Polytechnics) - Electrical and Electronics (Power System)', 1052: 'P.G.D.M. (Autonomous) - Travel and Tourism', 1146: 'Post S.S.C. Diploma in Engineering (Polytechnics) - Garment Technology', 1055: 'P.G.D.M. - Post Graduate Diploma in Management (Modern Office Management)', 1016: 'P.G.D.M. (Autonomous) - DIETETICS', 213: 'Bachelor of Engineering (B. E.) - Paints Technology', 815: 'Master of Engineering (M. E.) - Pharmaceuticals Chemistry and Technology', 219: 'Bachelor of Engineering (B. E.) - Plastic Technology', 817: 'Master of Engineering (M. E.) - Polymer Technology', 810: 'Master of Engineering (M. E.) - Oil,Oleochemicals and Surfactants Technology', 808: 'Master of Engineering (M. E.) - Nano Technology', 209: 'Bachelor of Engineering (B. E.) - Oil Fats and Waxes Technology', 767: 'Master of Engineering (M. E.) - Electronic and Telecommunication Engg. (Digital System', 901: 'Master of Technology (M. Tech.) - Digital System', 1156: 'Post S.S.C. Diploma in Engineering (Polytechnics) - Machine Engineering', 1152: 'Post S.S.C. Diploma in Engineering (Polytechnics) - Interior Design and Decoration', 885: 'Master of Technology (M. Tech.) - Civil Engineering (Building Science and Technology)', 910: 'Master of Technology (M. Tech.) - Electronics Engineering (Communication Engineering)', 886: 'Master of Technology (M. Tech.) - Civil Engineering (Infrastructure Engineering and Management)', 942: 'Master of Technology (M. Tech.) - Mechanical Engineering  (Computer Aided Design and Analysis)', 835: 'Master of Engineering (M. E.) - VLSI and Embedded Systems Design', 234: 'Bachelor of Engineering (Direct Second Year) - Automobile Engineering', 201: 'Bachelor of Engineering (B. E.) - Instrumentation and Control Engineering', 644: 'MBA ( Human Resource Development)', 1050: 'P.G.D.M. (Autonomous) - Post Graduate Diploma in Management (Tourism Management)', 753: 'Master of Engineering (M. E.) - Control System Engineering', 754: 'Master of Engineering (M. E.) - Design Engineering', 804: 'Master of Engineering (M. E.) - Mechanical [Computer Aided Design, Manufacture & Engineering]', 701: 'Master of Architecture - Valuecation and Arbitation', 688: 'Master of Architecture - Construction Management', 757: 'Master of Engineering (M. E.) - Digital System', 806: 'Master of Engineering (M. E.) - Microwave Engineering', 897: 'Master of Technology (M. Tech.) - Constructional Technology and Management ', 899: 'Master of Technology (M. Tech.) - Design Engineering', 968: 'Master of Technology (M. Tech.) - Thermal Power Engineering', 744: 'Master of Engineering (M. E.) - Computer Networks', 193: 'Bachelor of Engineering (B. E.) - Electronics and Telecommunication Engg [Technologynician Electronic Radio]', 846: 'Master of Pharmacy - Clinical Pharmacy', 862: 'Master of Pharmacy Pharamaceuticals Chemistry ', 238: 'Bachelor of Engineering (Direct Second Year) - Electrical Engineering', 904: 'Master of Technology (M. Tech.) - Electrical - Power System Engineering', 962: 'Master of Technology (M. Tech.) - Signal Processing', 921: 'Master of Technology (M. Tech.) - Environmental and Water Resources Engineering', 958: 'Master of Technology (M. Tech.) - Process Instrumentation', 959: 'Master of Technology (M. Tech.) - Process Metallurgy', 927: 'Master of Technology (M. Tech.) - Information Security', 954: 'Master of Technology (M. Tech.) - Power Electronics and Machine Drives', 311: 'Bachelor of Technology (B. Tech.) - Metallurgical Engineering', 952: 'Master of Technology (M. Tech.) - Physical Metallurgy', 955: 'Master of Technology (M. Tech.) - Power Electronics and Power Systems', 916: 'Master of Technology (M. Tech.) - Embedded Control Systems', 877: 'Master of Technology (M. Tech.) - Automotive Technology', 879: 'Master of Technology (M. Tech.) - Bio Medical Instrumentation', 934: 'Master of Technology (M. Tech.) - Manufacturing Engineering and Automation', 317: 'Bachelor of Technology (B. Tech.) - Production Engineering[Sandwich]', 281: 'Bachelor of Technology (B. Tech.) - B.Tech Planning', 978: 'Master of Technology (M. Tech.) - Wired and Wireless Communication', 308: 'Bachelor of Technology (B. Tech.) - Instrumentation and Control Engineering', 948: 'Master of Technology (M. Tech.) - Mechatronics', 970: 'Master of Technology (M. Tech.) - Town and Country Planning', 924: 'Master of Technology (M. Tech.) - Geo Technical Engineering', 939: 'Master of Technology (M. Tech.) - Mechanical - Production Engineering', 937: 'Master of Technology (M. Tech.) - Mechanical - Heat Power Engineering', 894: 'Master of Technology (M. Tech.) - Computer Science and Engineering (IT)', 882: 'Master of Technology (M. Tech.) - Civil - Environmental Engineering', 936: 'Master of Technology (M. Tech.) - Mechanical - Design Engineering', 1173: 'Post S.S.C. Diploma in Engineering (Polytechnics) - Sugar Technology', 951: 'Master of Technology (M. Tech.) - Pharmaceuticals & Fine Chemical Technology', 301: 'Bachelor of Technology (B. Tech.) - Electronics and Communication Technology', 908: 'Master of Technology (M. Tech.) - Electronic Technology', 919: 'Master of Technology (M. Tech.) - Energy Technology', 920: 'Master of Technology (M. Tech.) - Environmental Science and Technology', 303: 'Bachelor of Technology (B. Tech.) - Environmental Science and Technology', 923: 'Master of Technology (M. Tech.) - Food Technology', 288: 'Bachelor of Technology (B. Tech.) - Computer Science and Technology', 505: 'M.B.A.(General Management)', 799: 'Master of Engineering (M. E.) - Mechanical Engineering (Heat Power)', 215: 'Bachelor of Engineering (B. E.) - Petro Chemical Engineering', 221: 'Bachelor of Engineering (B. E.) - Polymer Engineering', 816: 'Master of Engineering (M. E.) - Polymer Engineering', 814: 'Master of Engineering (M. E.) - Petroleum Engineering', 217: 'Bachelor of Engineering (B. E.) - Petroleum Engineering', 793: 'Master of Engineering (M. E.) - Mechanical CAD ME', 752: 'Master of Engineering (M. E.) - Control System', 820: 'Master of Engineering (M. E.) - Power Systems', 805: 'Master of Engineering (M. E.) - Mechatronics', 728: 'Master of Engineering (M. E.) - Automotive Technology', 781: 'Master of Engineering (M. E.) - Hydraulics', 741: 'Master of Engineering (M. E.) - Communication Systems', 740: 'Master of Engineering (M. E.) - Communication Networks', 727: 'Master of Engineering (M. E.) - Automobile Engineering', 280: 'Bachelor of Technology (B. Tech.) - Automobile Engineering', 737: 'Master of Engineering (M. E.) - Civil Engineering [Structural]', 282: 'Bachelor of Technology (B. Tech.) - Bio Medical Engineering', 878: 'Master of Technology (M. Tech.) - Bio Medical Engineering', 229: 'Bachelor of Engineering (B. E.) - Textile Chemistry', 232: 'Bachelor of Engineering (B. E.) - Textile Plant Engineering', 638: 'M.Text. - Textile Chemistry', 429: 'M. B. A (Textile)', 639: 'M.Text. - Textile Engineering / Technology', 828: 'Master of Engineering (M. E.) - Textile Technology', 202: 'Bachelor of Engineering (B. E.) - Man Made Textile Technology', 230: 'Bachelor of Engineering (B. E.) - Textile Engineering (Fashion Technology)', 851: 'Master of Pharmacy - Pharmaceutical Technology', 692: 'Master of Architecture - Information Technology', 693: 'Master of Architecture - Interior Design', 689: 'Master of Architecture - Digital Architecture', 696: 'Master of Architecture - Sustanable Architecture', 684: 'Master of Architecture - Architectural Conservation', 949: 'Master of Technology (M. Tech.) - Mechnical Design', 729: 'Master of Engineering (M. E.) - Bio Chemical Engineering and Bio Technology', 792: 'Master of Engineering (M. E.) - Mechanical (Producation Engineering)', 194: 'Bachelor of Engineering (B. E.) - Environmental Engineering', 906: 'Master of Technology (M. Tech.) - Electrical Engineering', 227: 'Bachelor of Engineering (B. E.) - Production Engineering[Sandwich]', 926: 'Master of Technology (M. Tech.) - Industrial Engineering', 305: 'Bachelor of Technology (B. Tech.) - Industrial Engineering', 930: 'Master of Technology (M. Tech.) - Instrumentation and Control Engineering', 822: 'Master of Engineering (M. E.) - Printing Technology', 225: 'Bachelor of Engineering (B. E.) - Printing Engineering and Graphics Communication', 821: 'Master of Engineering (M. E.) - Printing Engineering and Graphics Communication', 732: 'Master of Engineering (M. E.) - CAD/CAM/CAE', 977: 'Master of Technology (M. Tech.) - Water Resources and Environmental Engineering', 756: 'Master of Engineering (M. E.) - Digital Electronics and Communication Systems', 310: 'Bachelor of Technology (B. Tech.) - Mechanical Engineering[Sandwich]', 296: 'Bachelor of Technology (B. Tech.) - Electronics & Communication Engineering(Sandwich)', 1041: 'P.G.D.M. (Autonomous) - Post Graduate Diploma in Management (Insurance and Risk Management)', 1054: 'P.G.D.M. - Post Graduate Diploma in Management (Biotech Management)', 686: 'Master of Architecture - Architecture(Town Planning)', 840: 'Master of H.M.C.T. - Hotel Management and Catering Technology', 944: 'Master of Technology (M. Tech.) - Mechanical Engineering (Heat Power)', 1038: 'P.G.D.M. (Autonomous) - Post Graduate Diploma in Management (IT & International Business)', 1039: 'P.G.D.M. (Autonomous) - Post Graduate Diploma in Management (IT & Marketing)', 1044: 'P.G.D.M. (Autonomous) - Post Graduate Diploma in Management (Marketing & International Business)', 1036: 'P.G.D.M. (Autonomous) - Post Graduate Diploma in Management (Human Resource & International Business)', 773: 'Master of Engineering (M. E.) - Embedded System and VLSI Design', 780: 'Master of Engineering (M. E.) - Heat and Power Engineering', 745: 'Master of Engineering (M. E.) - Computer Networks & Internet Security', 738: 'Master of Engineering (M. E.) - Civil Environmental Engineering', 1099: 'Post Graduate Diploma In Management (University Affiliated) - Post Graduate Diploma in Management (Banking Insurance and Financial Service)', 174: 'Bachelor of Engineering (B. E.) - CIVIL ENGINEERING(CONSTRUCTION TECHNOLOGY)', 645: 'MBA (Environment)', 65: 'B.Com. (Computer Applications)', 90: 'B.Sc. (Computer Science)', 59: 'B.C.A.', 155: 'Bachelor of Arts (Social Sciences)', 30: 'B.A.', 62: 'B.Com.', 85: 'B.Sc.', 449: 'M.A. (Hindi)', 609: 'M.Sc. (Organic Chemistry)', 581: 'M.Sc. (Botany)', 450: 'M.A. (History)', 452: 'M.A. (Marathi)', 604: 'M.Sc. (Information Technology)', 97: 'B.Sc. (Information Technology)', 590: 'M.Sc. (Computer Science)', 64: 'B.Com. (Banking & Insurance)', 442: 'M.A. (Economics)', 514: 'M.Com. (Advanced Accountancy)', 89: 'B.Sc. (Biotechnology)', 253: 'Bachelor of Management Studies (B.M.S.)', 70: 'B.Ed. (2-Year Course)', 682: 'Master in Computer Management (M.C.M.)', 160: 'Bachelor of Business Administration (B.B.A.)', 28: 'B.A (Home Economics)', 458: 'M.A. (Political-Science)', 578: 'M.Sc. (Analytical Chemistry)', 1069: 'Ph.D Commerce(5 Year)', 1075: 'Ph.D.', 56: 'B.B.A. (C.A.)', 474: 'M.A. English', 716: 'Master of Arts Urdu', 512: 'M.Com.', 607: 'M.Sc. (Mathematics)', 58: 'B.C.A (Commerce)', 608: 'M.Sc. (Microbiology)', 468: 'M.A. (Sociology)', 1086: 'Ph.D. in Chemistry', 416: 'L.L.B(5 Years )', 12: '3 Years L.L.B', 78: 'B.S.L.LL.B', 149: 'Bachelor of Accounting and Finance (B.A.F)', 255: 'Bachelor of Mass Media (B.M.M.)', 377: 'Diploma in Taxation Laws (DTL)', 55: 'B.A.L.L.B.(Hons)', 1180: 'Prathama', 37: 'B.A. (Honours)', 673: 'Madhyama', 63: 'B.Com. (Accounting and Finance)', 515: 'M.Com. (Banking & Finance)', 517: 'M.Com. (Management)', 140: 'Bachalor in Computer Application (Management)', 457: 'M.A. (Political Science)', 616: 'M.Sc. (Zoology)', 521: 'M.Ed. (2-Year Course)', 27: 'B.A (Geography) ', 67: 'B.Com. I.T.', 543: 'M.Phil.', 592: 'M.Sc. (Electronic Science)', 168: 'Bachelor of Education (B.Ed.)', 44: 'B.A. (Rural Development)', 33: 'B.A. (Civil Services)', 842: 'Master of Laws (LL.M.)', 0: '11th Arts', 6: '12th Arts', 42: 'B.A. (Music)', 243: 'Bachelor of Fashion Design (BFD)', 501: 'M.A.M.Sc - Geography', 448: 'M.A. (Geography) (with Credits)', 101: 'B.Sc. (Wine Technology)', 573: 'M.Sc.', 584: 'M.Sc. (Chemistry)', 513: 'M.Com. (Accountancy)', 589: 'M.Sc. (Computer Science & Software)', 612: 'M.Sc. (Physics)', 613: 'M.Sc. (Plant Biotechnology)', 251: 'Bachelor of Library & Information Science (B.Lib.I.Sc.)', 585: 'M.Sc. (Computer Applications)', 460: 'M.A. (Psychology)', 453: 'M.A. (Mass Communication & Journalism)', 248: 'Bachelor of Journalism (B.J)', 277: 'Bachelor of Social Work (BSW)', 51: 'B.A. in Social Work', 272: 'Bachelor of Science - Hospitality Studies (BSc-HS)', 34: 'B.A. (Economics & Commerce)', 593: 'M.Sc. (Electronics)', 874: 'Master of Social Work (MSW)', 92: 'B.Sc. (Home Science)', 96: 'B.Sc. (Hospitality)', 723: 'Master of Computer Application (MCA)(Commerce)(3 Year)', 605: 'M.Sc. (Inorganic Chemistry)', 275: 'Bachelor of Science(CBZ)', 595: 'M.Sc. (Environmental Sciences)', 436: 'M.A.', 461: 'M.A. (Public Administration)', 8: '12th Composite', 2: '11th Composite', 268: 'Bachelor of Science (Mathematics)', 26: 'B.A (Fashion Designing).', 126: 'BACHELOR OF ARTS (Home Economics)', 333: 'Certificate Course In Banking (Co-operative Sector)', 338: 'Certificate Course in Spoken English', 451: 'M.A. (Home Economics)', 1107: 'Post Graduate Diploma in Computer Application (P.G.D.C.A.)', 1108: 'Post Graduate Diploma in Computer Commercial Application (PGDCCA)', 163: 'Bachelor of Computer Science (BCS)', 45: 'B.A. (Rural Services)', 40: 'B.A. (Liberal Arts)', 477: 'M.A. IN GEOGRAPHY', 98: 'B.Sc. (Microbiology)', 597: 'M.Sc. (Geography)', 53: 'B.A.B.Ed.', 108: 'B.Sc.B.Ed.', 75: 'B.P.Ed.', 542: 'M.Phil in Social Work', 79: 'B.Sc (BIO CHEMISTRY)', 133: 'BFA (Applied Arts)', 863: 'Master of Physical Education (M.P.Ed.)', 107: 'B.Sc.(Nautical Science)', 1077: 'Ph.D. (Commerce)', 470: 'M.A. (Yogashastra)', 134: 'BFA (Bridge Course)', 136: 'BFA (Painting)', 523: 'M.F.A. (Painting)', 124: 'B.Voc. (Software Development)', 371: 'Diploma in Income Tax and Sales Tax', 1088: 'Ph.D. in Economics', 262: 'Bachelor of Science (Biology)', 76: 'B.P.Ed.(3year)', 274: 'Bachelor of Science with P.C.M./B.Z.', 49: 'B.A. Lalit Kala (Dance, Drama, Music)', 336: 'Certificate Course in Dance', 439: 'M.A. (Dance-Bharatanatyam & Kathak)', 88: 'B.Sc. (Bioinformatics)', 270: 'Bachelor of Science (With PCM/Microbiology)', 670: 'MUMBAI UNIVERSITY', 7: '12th Commerce', 10: '12th Science', 1: '11th Commerce', 4: '11th Science', 330: 'CONSTRUCTION TECHNOLOGY ', 662: 'MEDICAL LABORATORY TECHNICIAN', 16: 'AUTOMOBILE TECHNOLOGY', 15: 'ANIMAL HUSBANDRY AND DAIRY TECHNOLOGY', 14: 'ACCOUNTING AND OFFICE MANAGEMENT', 381: 'ELECTRICAL TECHNOLOGY', 440: 'M.A. (Defence Studies)', 454: 'M.A. (Music)', 712: 'Master of Arts In Geography ', 569: 'M.Sc (HERBAL SCIENCE)', 568: 'M.Sc (BIO ANALYTICAL SCIENCE)', 511: 'M.Com (E-Commerce)', 322: 'Bachelors of Finance Management (BFM)', 580: 'M.Sc. (Biotechnology)', 368: 'Diploma in Banking & Finance', 1112: 'Post Graduate Diploma in International Business (PGDIB)', 722: 'Master of Commerce', 159: 'Bachelor of Banking & Insurance (BBI)', 516: 'M.Com. (Business Management by papers)', 373: 'Diploma in Labour Laws and Labour Welfare (DLL & LW)', 131: 'BB.A. L.L.B (5 years)', 423: 'LL.M. (1 Year Course)', 554: 'M.Phil. (Marathi)', 546: 'M.Phil. (Economics)', 127: 'BACHELOR OF FINE ARTS', 47: 'B.A. (Yoga)', 66: 'B.Com. (Financial Markets)', 582: 'M.Sc. (By Research) (Analytical & Inorganic Chemistry)', 68: 'B.Com.(Accounting and Finance)', 544: 'M.Phil. (Commerce)', 594: 'M.Sc. (Environment & Safety)', 485: 'M.A. Sanskrit', 466: 'M.A. (Sanskrit Sahitya)', 43: 'B.A. (Psychology)', 156: 'Bachelor of Arts(Prashasakiya Seva)', 579: 'M.Sc. (Bioinformatics)', 1081: 'Ph.D. (Science)', 844: 'Master of Library & Information Science (M.Lib. & I.Sc.)', 602: 'M.Sc. (Home Science in Textile & Fashion Technology)', 1089: 'Ph.D. in Home Science', 1117: 'Post Graduation Diploma in Dietetics and Applied Nutrition', 600: 'M.Sc. (Home Science in Foods, Nutrition & Dietetics)', 601: 'M.Sc. (Home Science in Human Development)', 575: 'M.Sc. ( Home Science ) Foods Processing & Preservation', 576: 'M.Sc. ( Home Science ) Sports Nutrition', 118: 'B.Voc(Multimedia and Animation)', 111: 'B.Voc (Food Processing and Engineering)', 247: 'Bachelor of Interior Design (B.I.D.)', 1076: 'Ph.D. (Arts)', 611: 'M.Sc. (Physical Chemistry)', 437: 'M.A. (Applied Economics)', 31: 'B.A. (Administrative Services)', 475: 'M.A. Fashion Design', 473: 'M.A. Computer Animation VFX & Web Design', 48: 'B.A. Computer Animation & Web Design', 166: 'Bachelor of Design (B.Des.)', 117: 'B.Voc(Design and Gemology)', 598: 'M.Sc. (Geology)', 113: 'B.Voc in Jewellery design and Gemology', 586: 'M.Sc. (Computer Management)', 266: 'Bachelor of Science (ECS)', 617: 'M.Sc. A.G.P.M.', 36: 'B.A. (HONS.)', 629: 'M.Sc.(Pestisides and Agrochemicals)', 447: 'M.A. (Gender Studies)', 462: 'M.A. (Rural Development)', 41: 'B.A. (Mass Communication & Journalism)', 35: 'B.A. (Film, T.V. and Media Production)', 1111: 'Post Graduate Diploma in Intellectual Property Law', 421: 'L.L.M(Criminal  Law)', 1113: 'Post Graduate Diploma in Medical Jurisprudents ', 867: 'Master of Science (Bio-Chemistry (Non Granted)', 1118: 'Post Gradute Teaching Department of Law (L.L.M.)', 249: 'Bachelor of Law (L.L.B.)', 983: 'Masters of Library & Information Science ', 455: 'M.A. (Pali and Prakrit)', 1115: 'Post Graduate Diploma in Sports Science, Fitness and Nutrition', 599: 'M.Sc. (Home Science in Clinical Nutrition and Dietetics)', 269: 'Bachelor of Science (Nutrition And Dietetics) ', 132: 'BFA (Applied Arts & Crafts)', 420: 'L.L.M(Corporate Law)', 419: 'L.L.M(Constitution And Administration Law)', 422: 'L.L.M(Human Rights)', 417: 'L.L.M(Business Law)', 624: 'M.Sc. Industrial Chemistry', 683: 'Master in Mass Communications and Journalism (M.M.C.J.)', 99: 'B.Sc. (Multimedia and Networking)', 574: 'M.Sc. ( Bio-Analytical Science)', 583: 'M.Sc. (By Research) (Microbiology)', 263: 'Bachelor of Science (Botany)', 445: 'M.A. (Film Television and New Media Production)', 320: 'Bachelor of Visual Arts (B.V.A.)', 717: 'Master of Arts in HomeScience', 596: 'M.Sc. (Forensic Science)', 91: 'B.Sc. (Forensic Science)', 1110: 'Post Graduate Diploma in Forensic Science and Related Law', 1179: 'Postgraduate Diploma in Digital and Cyber Forensic Science and Related Law', 77: 'B.S.L.', 456: 'M.A. (Philosophy)', 615: 'M.Sc. (Statistics)', 463: 'M.A. (Sanskrit & Prakrit)', 667: 'MSc In Biochemstry', 264: 'Bachelor of Science (C.S. with Maths&Statistics)', 123: 'B.Voc. (Retail Management)', 374: 'Diploma in Library Science', 86: 'B.Sc. (Aeronautics)', 169: 'Bachelor of Education(Special Education)', 258: 'Bachelor of Performing Arts (B.P.A.)(3 Year)', 259: 'Bachelor of Performing Arts (BPA)', 252: 'Bachelor of Library Science ', 265: 'Bachelor of Science (Chemistry)', 443: 'M.A. (Education)', 120: 'B.Voc(Travel Tourism)', 5: '11th Vocational', 11: '12th Vocational', 93: 'B.Sc. (Home Science)(2 year)', 147: 'Bachelor Of Science(Food Science and Quality Control)', 640: 'M.Voc. (Auto Mobile / Industrial Automation)', 366: 'Diploma In Elementary Education', 61: 'B.Com(Investment Management)', 69: 'B.Com.(Transport Management)', 459: 'M.A. (Politics & Public Administration)', 83: 'B.Sc Mathematics', 84: 'B.Sc Zoology', 81: 'B.Sc Botany', 254: 'Bachelor of Management Studies (Environment Management & Economics)', 1084: 'Ph.D. Hindi', 1083: 'Ph.D. Geography', 1074: 'Ph.D physics', 1116: 'Post Graduate Diploma in Yoga Science (PGDYSc)', 1189: 'Sanskrit Parichaya', 464: 'M.A. (Sanskrit Darshana)', 1071: 'Ph.D Microbiology', 679: 'Master Of Science Polymer Science', 1067: 'Ph.D Botany', 1073: 'Ph.D Zoology', 137: 'BFA (Sculpture)', 642: 'MARKETING AND RETAIL MANAGEMENT ', 382: 'ELECTRONICS TECHNOLOGY', 29: 'B.A(Fine Art)', 1060: 'PGDCSA', 161: 'Bachelor of Commerce Vocational ', 843: 'Master of Library  Science ', 547: 'M.Phil. (Education)', 135: 'BFA (Dance)', 465: 'M.A. (Sanskrit Parangat)', 441: 'M.A. (Defence and Straitergic Study)', 706: 'Master of Arts (Yoga)', 588: 'M.Sc. (Computer Science & Networking)', 869: 'Master of Science Drug Chemistry', 570: 'M.Sc (SCIENCE)', 982: 'Masters in Fashion Designing (MFD)', 54: 'B.A.Home Science', 267: 'Bachelor of Science (Entrepreneurship)', 418: 'L.L.M(Constitution  Law)', 1104: 'Post Graduate Diploma in  Law, Medical Jurisprudence ', 678: 'Master Of Science Biodiveristy', 125: 'B.Voc. Automobile Technology', 60: 'B.Com (Accountancy,Finance and Insurance)', 335: 'Certificate Course in Communication Skill', 370: 'Diploma in Dramatics', 718: 'Master of Arts in Politics', 337: 'Certificate Course in Industrial Safety-Health and Environmental Management', 334: 'Certificate Course In Insurance Risk Management (CIRM)', 339: 'Certificate Programme in Functional English (CFE)', 1109: 'Post Graduate Diploma in Early Childhood Education', 708: 'Master of Arts Clinical Psychology ', 719: 'Master of Arts in counselling ', 87: 'B.Sc. (Automobile Technology)', 100: 'B.Sc. (Refrigeration & Air Conditioning)', 102: 'B.Sc. (Workshop Technology)', 1198: 'TOURISM AND HOSPITALITY MANAGEMENT', 873: 'Master of Science in Software Engineering (M.Sc.(SE))', 142: 'Bachelor Of Science Physics', 138: 'BFA(Fashion Designing)', 872: 'Master of Science in Bioinformatics (M.Sc. BI)', 38: 'B.A. (J.M.C) International UNESCO Designed Course', 841: 'Master of Journalism and Media Studies (MJMS)', 614: 'M.Sc. (Plant Breeding & Molecular Genetics)', 711: 'Master of Arts In Arabic', 724: 'Master of Computer Science', 524: 'M.F.A. (Performing Arts)', 1103: 'Post Graduate Diploma in  Labour Law', 467: 'M.A. (Sanskrit Veda)', 634: 'M.Sc.Tech. Industrial Mathematics with Computer Ap', 668: 'MSc In Polymer Chemstry', 610: 'M.Sc. (Petro.Technology)', 80: 'B.Sc Animation Entire', 146: 'Bachelor Of Science(Biochemistry)', 1068: 'Ph.D Commerce', 276: 'Bachelor of Science(Sugar Technology)', 1056: 'P.G.Diploma in Comp.Commercial Application.', 273: 'Bachelor of Science in Software Engineering (BSC.SE)', 32: 'B.A. (Ambedkar Thought)', 119: 'B.Voc(Theatre & Stage Craft)', 130: 'BATCHELOR OF VOCATIONAL', 510: 'M.C.S (with Scientific Computing)', 1085: 'Ph.D. Marathi (3 Year)', 1082: 'Ph.D. (Social Science)', 141: 'Bachelor Of Science Environmental Science', 162: 'Bachelor of Computer Management (BCM)', 707: 'Master of Arts Buddhist Studies', 444: 'M.A. (Electronics Media Studies)', 1102: 'Post Graduate Diploma in  Dr. B.R. Ambedkar& Indian Legal System', 1101: 'Post Graduate Diploma in  Consumer Law', 369: 'Diploma in Classical Dance', 372: 'Diploma in Instrumental Music', 245: 'Bachelor of Home .Science ( F.S.N. Textile & Clothing )', 628: 'M.Sc. in Geoinformatics', 271: 'Bachelor of Science (Zoology)', 324: 'Banking (A-5)', 1002: 'Office Management (A-7)', 567: 'M.S.W. (Y.C.S.R.D.)', 563: 'M.Phil. In Management Sciences', 1087: 'Ph.D. in Computer Science', 720: 'Master of Arts in social work ', 621: 'M.Sc. Computer Science (Integrated)', 103: 'B.Sc. CS + M.Sc. CS (Integrated)', 553: 'M.Phil. (Management Commerce)', 562: 'M.Phil. In Computer Science', 357: 'D.E.L.Ed/D.T.Ed In Marathi', 46: 'B.A. (Vedanga Jyotish)', 122: 'B.Voc. (Journalism  & Mass Communication)', 121: 'B.Voc. (Food Processing & Post Harvest Technology)', 39: 'B.A. (Kirtanshastra)', 496: 'M.A.(kirtanShastra)', 250: 'Bachelor of Library & Information Science ', 116: 'B.Voc(Acting)', 57: 'B.B.A. in Hospitality & Tourism', 871: 'Master of Science in  Genetic', 256: 'Bachelor of Music (B.Mus.)', 148: 'Bachelor Of Science(Nano Science and Tech. Entire)', 82: 'B.Sc Food Processing & Packeging Entire', 587: 'M.Sc. (Computer Network)', 351: 'Computer Science (D-9)', 386: 'Electronics (C-2)', 13: 'ACCOUNT AND AUDITING', 404: 'HORTICULTURE', 1063: 'PURCHASING AND STOREKEEPING', 129: 'BANKING FINANCIAL SERVICES AND INSURANCE', 424: 'LOGISTICS AND MATERIAL MANAGEMENT', 714: 'Master of Arts Poltical Science', 329: 'COMPUTER TECHNOLOGY', 1183: 'RADIOLOGY TECHNICIAN', 1000: 'OPHTHALMIC TECHNICIAN', 661: 'MECHANICAL TECHNOLOGY', 19: 'Animal Science & Dairying (B-2)', 603: 'M.Sc. (Home Science)', 331: 'CROP AND SEED PRODUCTION TECHNOLOGY', 870: 'Master of Science Sericulture', 353: 'Crop Science (B-4)', 1058: 'PGA', 158: 'Bachelor of Ayurveda, Medicine & Surgery(BAMS)', 1062: 'PGM', 321: 'Bachelor of medicine & Bachelor of Surgery(MBBS)', 261: 'Bachelor of Physiotheraphy (BPTH)', 105: 'B.Sc. Nursing', 165: 'Bachelor of Dental Surgery(BDS)', 1059: 'PGD', 139: 'BPMT', 319: 'Bachelor of Unani Medicine and Surgery(BUMS)', 1061: 'PGH', 246: 'Bachelor of Homoeopathic Medicine & Surgery(BHMS)', 74: 'B.P&O (Bachelor of Prosthetics and Orthotics)', 526: 'M.P.O.(master of Prosthetics and Orthotics)', 327: 'Bsc in Paramedical Technology (BPMT)', 1057: 'PBBSc Nursing', 657: 'MDS Conservative Dentistry', 660: 'MDS Prosthodontics', 659: 'MDS Periodontics', 658: 'MDS Orthodontics', 518: 'M.D. (Ayurved) (Doctor of Medicine) Ayurved VAchaspati', 669: 'MSc Nursing', 354: 'D.A.', 646: 'MD Anatomy', 359: 'D.O.R.L.', 648: 'MD Biochemistry', 361: 'D.P.H./Community Medicine', 652: 'MD P.S.M./Community Medicine', 356: 'D.C.P. (Patho)', 358: 'D.G.O.', 651: 'MD Microbiology', 656: 'MD Physiology', 666: 'MS Surgery', 360: 'D.Opthal.', 664: 'MS OBGY', 647: 'MD Anesthesia', 355: 'D.C.H.', 649: 'MD Forensic Medicine', 665: 'MS Ophthalmology', 663: 'MS E.N.T./Otorhinolaryngology', 653: 'MD Pathology', 655: 'MD Pharmacology', 650: 'MD Medicine', 654: 'MD Peadiatrics', 519: 'M.D. (Homeopathy) (Doctor Of Medicine)', 1004: 'P.B.B.Sc Nursing', 325: 'Basic B.sc Nursing', 157: 'Bachelor of Audio Speech Language pathology(BASLP)', 503: 'M.A.S.L.P.(Master of Audio And Speech Language Pathology)', 257: 'Bachelor of Occupational Therapy(BOTH)', 1014: 'P.G. Diploma in Vedang Jyotish', 375: 'Diploma in Library and information science ', 531: 'M.Phil Sahitya', 534: 'M.Phil Veda', 50: 'B.A. Sanskrti Visharad', 1015: 'P.G. Diploma in Yogic Science', 536: 'M.Phil Vedang Jyotish', 489: 'M.A. Sanskrit Vyakaran', 488: 'M.A. Sanskrit Vedanta', 490: 'M.A. Vedang Jyotish', 538: 'M.Phil Vyakaran', 528: 'M.Phil Darshan', 540: 'M.Phil Yogashastra', 564: 'M.Phil. Vedanta', 532: 'M.Phil Sahitya(2 Year)', 535: 'M.Phil Veda (2 Year)', 539: 'M.Phil Vyakaran (2 Year)', 529: 'M.Phil Darshan (2 Year)', 541: 'M.Phil Yogashastra (2 Year)', 565: 'M.Phil. Vedanta (2 Year)', 537: 'M.Phil Vedang Jyotish(2 Year)', 376: 'Diploma in Manuscriptology', 866: 'Master of Science (Applied Mathematics )', 703: 'Master of Arts (Life Long Learning and Extension)', 522: 'M.F.A. (By Research)', 558: 'M.Phil. (Political Science)', 560: 'M.Phil. (Sociology)', 557: 'M.Phil. (Physical Education)', 551: 'M.Phil. (Journalism)', 1080: 'Ph.D. (Law)', 702: 'Master of Arts (Libral Arts)', 476: 'M.A. History & Archaeology', 980: 'Master of Tourism Administration (M.T.A.)', 559: 'M.Phil. (Public Administration)', 545: 'M.Phil. (Computer Science)', 715: 'Master of Arts Sanskrut', 17: 'Advance Dip in Printing Tech. & Graphic Arts (ADPT & GA)', 164: 'Bachelor of Dance', 555: 'M.Phil. (Mathematics)', 561: 'M.Phil. (Urdu)', 556: 'M.Phil. (Pali & Buddhism)', 552: 'M.Phil. (Lib. & Inf. Sci.)', 868: 'Master of Science (Nano Technology)', 425: 'Library Science & Inf. Tech.', 426: 'M. A. (Archaeology)', 525: 'M.F.A. (Printing / Applied Arts)', 705: 'Master of Arts (Russian)', 704: 'Master of Arts (Pali & Buddhism)', 469: 'M.A. (Woman Study)', 548: 'M.Phil. (English )', 549: 'M.Phil. (Hindi )', 550: 'M.Phil. (History)', 25: 'B. Voc. (Auto Mobile / Industrial Automation)', 167: 'Bachelor of Dramatics (B.D.)', 18: 'Advance Dip in Printing Tech. & Graphic Arts (ADPT & GA)(1 Year)', 533: 'M.Phil Sanskrit & Lexicography', 471: 'M.A. A.I.H.C & Archaeology', 527: 'M.Phil A.I.H.C & Archaeology', 713: 'Master of Arts Linguistic', 486: 'M.A. Sanskrit & Lexicography', 530: 'M.Phil Linguistic', 1070: 'Ph.D Linguistic', 1066: 'Ph.D A.I.H.C & Archaeology', 1072: 'Ph.D Sanskrit & Lexicography', 1065: 'Ph.D', 1178: 'Post-Graduate Diploma in Tribal Development', 340: 'Certificate course in : Advanced Techniques for Improvement of Plant Growth and Health Using Soil Microorganisms', 346: 'Certificate course in : Design and Development of Signal conditioning and Sensor Technology', 1105: 'Post Graduate Diploma in Computer Aided Product design', 343: 'Certificate course in : Advanced and innovative techniques for Environment and Watershed Management(1 Year)', 345: 'Certificate course in : Chromatographic Techniques for Designing Forensic and Industrial Applications(1 Year)', 341: 'Certificate course in : Advanced Techniques for Improvement of Plant Growth and Health Using Soil Microorganisms(1 Year)', 347: 'Certificate course in : Design and Development of Signal conditioning and Sensor Technology(1 Year)', 1106: 'Post Graduate Diploma in Computer Aided Product design(1 Year)', 342: 'Certificate course in : Advanced and innovative techniques for Environment', 344: 'Certificate course in : Chromatographic Techniques for Designing Forensic and Industrial Applications', 481: 'M.A. Pali', 636: 'M.Tech. Energy Studies', 492: 'M.A. in German', 472: 'M.A. Buddhist Literature', 493: 'M.A. in Spanish', 487: 'M.A. Sanskrit Linguistics', 348: 'Certificate course in Manuscriptology', 620: 'M.Sc. Biotechnology Five Years', 500: 'M.A.Bridge Year (Theatre)', 622: 'M.Sc. Defence Studies', 1013: 'P.G. Diploma in Sanskrit Linguistics(1 Year)', 478: 'M.A. Indian Logic and Epistemology', 498: 'M.A.Bridge Year (Dance)', 479: 'M.A. Mathematics', 572: 'M.Sc Medicinal Chemistry', 627: 'M.Sc. Virology', 619: 'M.Sc. Atmospheric Sciences', 497: 'M.A./M.Sc. Statistics', 438: 'M.A. (Dance)', 491: 'M.A. in French', 483: 'M.A. Prayojan Mulak Hindi', 606: 'M.Sc. (Instrumentation)', 52: 'B.A.(Drama)', 623: 'M.Sc. Health Sciences', 864: 'Master of Public Health', 1005: 'P.G. B.Sc. (Applied) GIS & Remote Sensing', 499: 'M.A.Bridge Year (Music)', 112: 'B.Voc in IT & ITeS ', 1009: 'P.G. Diploma in Gender Culture and Development Studies(1 Year)', 618: 'M.Sc. Anthropology', 482: 'M.A. Prakrit', 114: 'B.Voc in Renewable Energy', 446: 'M.A. (Gender Culture and Development Studies)', 571: 'M.Sc Media and Communication Studies', 484: 'M.A. Sahitya Hindi', 115: 'B.Voc in Retail Management', 406: 'Higher Diploma in Buddhist Studies', 1096: 'Post Graduate Diploma Course in Buddhist Studies', 1114: 'Post Graduate Diploma in Socially Engaged Buddhism', 1012: 'P.G. Diploma in Professional Skills in Clinical and Counselling Psychology', 413: 'Integrated B.Sc-B.Ed', 1011: 'P.G. Diploma in Pali', 1008: 'P.G. Diploma Course IN Buddhist Psychology AND Psychotherapy', 1010: 'P.G. Diploma in Indian Logic & Episthemology', 414: 'Integrative Dietetics', 1006: 'P.G. Dip. in Advanced Network Security', 1007: 'P.G. Dip. in Advanced Network Security Part Time', 480: 'M.A. Natural Resource Management and Sustainable Development', 72: 'B.F.Sc.(Bachelor of Fisheries Science)', 1078: 'Ph.D. (Economics)', 591: 'M.Sc. (Economics)', 390: 'Extention Education', 435: 'M.A Inclusive Education', 434: 'M.A -Gujarati', 427: 'M. A. -Non-Formal Education', 428: 'M. A.-Library Science', 433: 'M.A -Drawing & Painting', 383: 'Educational Technology', 393: 'FSN', 1200: 'Textile & Apperal Design', 409: 'Human Development', 999: 'Nursing - Basic BSc Nursing', 402: 'Gender Womens Sutudies', 24: 'B. Tech. (Bio-Technology)', 385: 'Electrician-ITI', 396: 'Fitter-ITI', 992: 'Mechanic Diesel-ITI', 984: 'Mechanic (Motor Vehicle)-ITI', 379: 'Draughtsman (Mechanical)-ITI', 399: 'Foundryman-ITI', 671: 'Machinist (Grinder)-ITI', 986: 'Mechanic (Tractor)-ITI', 1192: 'Sheet Metal Worker-ITI', 1204: 'Turner-ITI', 1207: 'Welder-ITI', 1206: 'Welder (GMAW & GTAW)-ITI', 410: 'Information Communication Technology System Maintenance-ITI', 672: 'Machinist-ITI', 1203: 'Tool & Die Maker (Press Tools, Jigs & Fixtures)-ITI', 387: 'Electronics Mechanic-ITI', 326: 'Basic Cosmetology-ITI', 677: 'Mason (Building Constructor)-ITI', 1064: 'Painter General-ITI', 1208: 'Wireman-ITI', 20: 'Architectural Assistant-ITI', 1191: 'Sewing Technology-ITI', 378: 'Draughtsman (Civil)-ITI', 1187: 'SCVT - Stenography (Marathi)-ITI', 1094: 'Plastic Processing Operator-ITI', 350: 'Computer Operator and Programming Assistant-ITI', 1194: 'Stenographer & Secretarial Assistant (English)-ITI', 332: 'Carpenter-ITI', 985: 'Mechanic (Refrigeration and Air-Conditioner)-ITI', 1095: 'Plumber-ITI', 1197: 'Surveyor-ITI', 415: 'Interior Design & Decoration-ITI', 993: 'Mechanic Machine Tool Maintenance-ITI', 394: 'Fashion Design & Technology-ITI', 1190: 'Secretarial Practice (English)-ITI', 21: 'Architectural Draughtsman-ITI', 388: 'Electroplater-ITI', 363: 'Desk Top Publishing Operator-ITI', 400: 'Front Office Assistant-ITI', 412: 'Instrument Mechanic-ITI', 1182: 'Pump Operator-Cum-Mechanic-ITI', 1195: 'Steward-ITI', 398: 'Food Production (General)-ITI', 1202: 'Tool & Die Maker (Dies & Moulds)-ITI', 1003: 'Operator Advanced Machine Tools-ITI', 401: 'Fruit and Vegetable Processor-ITI', 674: 'Maintenance Mechanic (Chemical Plant)-ITI', 22: 'Attendant Operator (Chemical Plant)-ITI', 987: 'Mechanic Agriculture Machinery-ITI', 380: 'Dress Making-ITI', 989: 'Mechanic Auto Body Repair-ITI', 411: 'Instrument Mechanic (Chemical Plant)-ITI', 349: 'Computer Hardware & Network Maintenance-ITI', 397: 'Food & Beverages Services Assistant-ITI', 323: 'Baker and Confectioner-ITI', 990: 'Mechanic Auto Electrical and Electronics-ITI', 1201: 'Textile Wet Processing Technician-ITI', 1205: 'Weaving Technician-ITI', 1193: 'Spinning Technician-ITI', 352: 'Craftsman Food Production (Vegetarian)-ITI', 998: 'Multimedia Animation & Special Effects-ITI', 988: 'Mechanic Auto Body Painting-ITI', 389: 'Embroidery & Needle Work-ITI', 1185: 'SCVT - Cabinate Furniture Maker-ITI', 1186: 'SCVT - General Fitter cum Mechanic-ITI', 991: 'Mechanic Consumer Electronics Appliances-ITI', 408: 'Hospital House Keeping-ITI', 405: 'Health Sanitary Inspector-ITI', 1093: 'Physiotherapy Technician-ITI', 994: 'Mechanic Mechatronics-ITI', 1199: 'Technician Power Electronics System-ITI', 995: 'Mechanic Medical Electronics-ITI', 1092: 'Photographer-ITI', 1184: 'Rubber Technician-ITI', 1001: 'Office Assitant cum Computer Operator-ITI', 364: 'Digital Photographer-ITI', 1196: 'Surface Ornamentation Techniques (Embroidery)-ITI', 362: 'Dental Laboratory Equipment Technician-ITI', 675: 'Marine Fitter-ITI', 996: 'Mechanic Motor Cycle-ITI', 1181: 'Pre/Preparatory School Management (Assistant)-ITI', 395: 'Fire Technology and Industrial Safety Management-ITI', 128: 'BACHELOR OF SCIENCE IN HOSPITALITY AND HOTEL ADMINISTRATION', 1188: \"Sanitry Inspector's Course\", 145: 'Bachelor Of Science Vocational Still, Photography & AudioVisual', 143: 'Bachelor Of Science Vocational Biotechnology', 144: 'Bachelor Of Science Vocational Electronic Equipment Maintenance', 23: 'Auxiliary Nurse & Midwives', 403: 'General Nurse & midwifery', 1079: 'Ph.D. (Food Technology)', 71: 'B.Ed.Special Eduaction', 365: 'Dip. Indust.Sci.', 367: 'Diploma in Agro Journalism', 432: 'M. Sc. Sub.Comm', 95: 'B.Sc. (Honours)  (Agriculture)', 495: 'M.A.(Sub.Comm.)', 106: 'B.Sc.(Facility Services)', 109: 'B.Sc.Constru', 110: 'B.Sc.Hosp.& Catering', 104: 'B.Sc. Fire & Safety', 577: 'M.Sc. (Agriculture)', 865: 'Master of Public Health (MPH)', 494: 'M.A.(Dist.Edu)', 641: 'M.of A.Edu.Comm ', 94: 'B.Sc. (Honours)   (Horticulture)', 709: 'Master of Arts Fine Art', 392: 'FOOD PRODUCTION TECHNOLOGY', 391: 'FISHERIES TECHNOLOGY', 9: '12th MCVC', 3: '11th MCVC', 328: 'CHILD, OLD AGE AND HEALTH CARE SERVICES', 676: 'Marketing & Salesmanship (A-8)', 997: 'Mechanical Maintenance (S) (A-2)', 384: 'Electrical Maintenance (A-1)', 407: 'Horticulture (B-5)', 502: 'M.A.Mass Communication', 633: 'M.Sc.Food Sciece', 625: 'M.Sc. Pharmacetical Microbilogy', 635: 'M.Sc.Tech.Mathematics', 626: 'M.Sc. School of Nano Science', 504: 'M.B.A. (Y.C.S.R.D.)', 632: 'M.Sc.Envirmental Biotech Science', 566: 'M.R.S. (Y.C.S.R.D.)', 631: 'M.Sc.Applied Statistics & Informatics', 630: 'M.Sc.Applied Chemistry', 710: 'Master of Arts Hindi(Language Technology)', 73: 'B.J.C.(1 Year)', 278: 'Bachelor of Technology (B. Tech.) - Aeronautical Engineering', 211: 'Bachelor of Engineering (B. E.) - Oil and Paints Technology'}\n"
     ]
    }
   ],
   "source": [
    "df['Course Name_encoded'] = le.fit_transform(df['Course Name'])\n",
    "encoded_labels = df['Course Name_encoded'].unique()\n",
    "original_labels = le.inverse_transform(encoded_labels)\n",
    "label_dict = dict(zip(encoded_labels, original_labels))\n",
    "\n",
    "print(label_dict)"
   ]
  },
  {
   "cell_type": "code",
   "execution_count": 53,
   "metadata": {},
   "outputs": [
    {
     "name": "stdout",
     "output_type": "stream",
     "text": [
      "{7: 'Post Graduate Course', 9: 'Under Graduate Course', 2: 'Diploma Course', 8: 'Post Graduate Diploma Course', 6: 'Ph.D', 1: 'DUAL Degree', 3: 'F.Y.J.C. (11 Std)', 4: 'H.S.C. (12 Std)', 0: 'Certificate Course', 5: 'NonAided', 10: 'Vocational Course'}\n"
     ]
    }
   ],
   "source": [
    "df['Course Type_encoded'] = le.fit_transform(df['Course Type'])\n",
    "encoded_labels = df['Course Type_encoded'].unique()\n",
    "original_labels = le.inverse_transform(encoded_labels)\n",
    "label_dict = dict(zip(encoded_labels, original_labels))\n",
    "\n",
    "print(label_dict)"
   ]
  },
  {
   "cell_type": "code",
   "execution_count": 54,
   "metadata": {},
   "outputs": [
    {
     "name": "stdout",
     "output_type": "stream",
     "text": [
      "{2: 'Professional Course', 1: 'Non-Professional Course', 0: 'B.A.'}\n"
     ]
    }
   ],
   "source": [
    "df['Is Professional_encoded'] = le.fit_transform(df['Is Professional'])\n",
    "encoded_labels = df['Is Professional_encoded'].unique()\n",
    "original_labels = le.inverse_transform(encoded_labels)\n",
    "label_dict = dict(zip(encoded_labels, original_labels))\n",
    "\n",
    "print(label_dict)"
   ]
  },
  {
   "cell_type": "code",
   "execution_count": 55,
   "metadata": {},
   "outputs": [
    {
     "name": "stdout",
     "output_type": "stream",
     "text": [
      "{0: 'Aided', 1: 'UnAided', 2: 'Under Graduate Course'}\n"
     ]
    }
   ],
   "source": [
    "df['Course (Aided / Unaided)_encoded'] = le.fit_transform(df['Course (Aided / Unaided)'])\n",
    "encoded_labels = df['Course (Aided / Unaided)_encoded'].unique()\n",
    "original_labels = le.inverse_transform(encoded_labels)\n",
    "label_dict = dict(zip(encoded_labels, original_labels))\n",
    "\n",
    "print(label_dict)"
   ]
  },
  {
   "cell_type": "code",
   "execution_count": 56,
   "metadata": {},
   "outputs": [
    {
     "name": "stdout",
     "output_type": "stream",
     "text": [
      "{2: '24', 4: '48', 3: '36', 7: '72', 6: '60', 0: '12', 8: 'Non-Professional Course', 5: '54', 1: '18'}\n"
     ]
    }
   ],
   "source": [
    "df['Course Duration (In months)_encoded'] = le.fit_transform(df['Course Duration (In months)'])\n",
    "encoded_labels = df['Course Duration (In months)_encoded'].unique()\n",
    "original_labels = le.inverse_transform(encoded_labels)\n",
    "label_dict = dict(zip(encoded_labels, original_labels))\n",
    "\n",
    "print(label_dict)"
   ]
  },
  {
   "cell_type": "code",
   "execution_count": 57,
   "metadata": {},
   "outputs": [
    {
     "name": "stdout",
     "output_type": "stream",
     "text": [
      "{5: 'Engineering', 7: 'Hotel Management and Catering', 14: 'Pharmacy', 10: 'Management', 9: 'MCA', 0: 'ARCHITECTURE AND TOWN PLANNING', 1: 'Agriculture', 13: 'Other', 2: 'Arts', 3: 'Commerce', 16: 'Science', 4: 'Education', 11: 'Non-AICTE', 8: 'Law', 17: 'Social Work', 15: 'Physical Education', 18: 'UnAided', 6: 'Health Science', 12: 'Nursing'}\n"
     ]
    }
   ],
   "source": [
    "df['Course Category_encoded'] = le.fit_transform(df['Course Category'])\n",
    "encoded_labels = df['Course Category_encoded'].unique()\n",
    "original_labels = le.inverse_transform(encoded_labels)\n",
    "label_dict = dict(zip(encoded_labels, original_labels))\n",
    "\n",
    "print(label_dict)"
   ]
  },
  {
   "cell_type": "code",
   "execution_count": null,
   "metadata": {},
   "outputs": [],
   "source": []
  },
  {
   "cell_type": "code",
   "execution_count": null,
   "metadata": {},
   "outputs": [],
   "source": []
  },
  {
   "cell_type": "code",
   "execution_count": null,
   "metadata": {},
   "outputs": [],
   "source": []
  },
  {
   "cell_type": "code",
   "execution_count": null,
   "metadata": {},
   "outputs": [],
   "source": []
  }
 ],
 "metadata": {
  "kernelspec": {
   "display_name": "Python 3",
   "language": "python",
   "name": "python3"
  },
  "language_info": {
   "codemirror_mode": {
    "name": "ipython",
    "version": 3
   },
   "file_extension": ".py",
   "mimetype": "text/x-python",
   "name": "python",
   "nbconvert_exporter": "python",
   "pygments_lexer": "ipython3",
   "version": "3.7.6"
  }
 },
 "nbformat": 4,
 "nbformat_minor": 5
}
